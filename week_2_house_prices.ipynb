{
 "cells": [
  {
   "cell_type": "markdown",
   "metadata": {},
   "source": [
    "![](https://previews.dropbox.com/p/thumb/AA91sZ6OYI3WIlX2qXF7BEpb9HfJ0HLv4oyEdtrUqcF32KNzEr89GpDUs0jBeejhnTRx-nVue7q_SvIKiOYu3lfVtRO-zW1tSxXOYJms-oNqcFZOJkL8x46GK0RJj2dijCUMAUQfBjbj3gI2sN7gmljRoIkGSDgwjq2vy4XTbIwxR2XyJ8Omdl3-xsfHVJtf1t-_1P-outH2mUbVqQjMDyjug0GNd0zatlOtLdxQlrhid6iCyWwAZY5IWLF8jNISJdRpKPCP-PDk7_HJqlHGfx6WAG0FQ1S5j2o6_gg7oub7iMqFrBCSaxe73JJZJXjdqmPOsXbEm5gFrAvKZdGkdWM-ERjjV3qHD1ZfGdb9RI2EjQ/p.png?fv_content=true&size_mode=5)"
   ]
  },
  {
   "cell_type": "markdown",
   "metadata": {},
   "source": [
    "## Instructors\n",
    "* Nguyễn Hoàng Phương  - Data Scientist từ Torus-Actions"
   ]
  },
  {
   "cell_type": "markdown",
   "metadata": {},
   "source": [
    "# Phần I - Tuần 2:    Bài toán Regression -  xây dựng mô hình dự đoán giá nhà \n",
    "![home price](https://previews.dropbox.com/p/thumb/AA9MmKl9bF1rSh89ydiZwEuix6sWd0ij8dnE9zCReFMqdbHqwTQ-uD9UMKWAu5Qdk6FwMzHh3EGvuLjqeNtaJYJw9K5ltpl0teGnCAgRbIpdflVjX_6zN38xgDT50LpFseQ_QCdG0WaOhv09xvAGZNAJLOk3ckn3jJNbJUx0iRpluj_HeBkJ62sn--J6if0rnjWaAJhndytzyrG58O56yhtSPQcSqLDrdxvYC9hZ8J6DYM6I6efeFajoEGfzC9JmC8J1b577ixKxuwDCoIWv-_qNHAlxDln96FNI7iptWYN5ov9e56Ez6KqPLxgtqnCHWjx2Tdylv7bLF3zDYh6fK4vLfkXhcXtSJX7Y3Zb3k3fZrQ/p.png?fv_content=true&size_mode=5)\n"
   ]
  },
  {
   "cell_type": "markdown",
   "metadata": {},
   "source": [
    "## Outline\n",
    "- <a href='#1'>1. Xử lý dữ liệu  </a>\n",
    "    - <a id='#1-1'>1.1. Xử lý dữ liệu thiếu (missing data) </a> \n",
    "    - <a id='#1-1'>1.2. Xử lý dữ liệu số  </a> \n",
    "    - <a id='#1-1'>1.3. Xử lý dữ liệu phân loại  </a>\n",
    "\n",
    "- <a href='#2'>2. Thuật toán lightgbm và tối ưu bayes (bayesian optimization)  </a>  \n",
    "    - <a id='#2-1'>2.1. Thuật toán lightgbm và các tham số quan trọng </a> \n",
    "    - <a id='#2-1'>2.2. Tối ưu Bayes (Bayesian optimization) </a> \n",
    "    - <a id='#2-1'>3.1. Sử dụng tối ưu bayes để tối ưu tham số thuật toán lightgbm </a>\n"
   ]
  },
  {
   "cell_type": "markdown",
   "metadata": {},
   "source": [
    "Nhập các gói thư viện "
   ]
  },
  {
   "cell_type": "code",
   "execution_count": 1,
   "metadata": {},
   "outputs": [],
   "source": [
    "# import packages\n",
    "import pandas as pd\n",
    "import matplotlib.pyplot as plt\n",
    "import seaborn as sns\n",
    "import numpy as np\n",
    "from scipy.stats import norm\n",
    "from sklearn.preprocessing import StandardScaler\n",
    "from scipy import stats\n",
    "import warnings\n",
    "import sys\n",
    "import os\n",
    "warnings.filterwarnings('ignore')\n",
    "%matplotlib inline\n",
    "from sklearn.preprocessing import RobustScaler\n",
    "from sklearn.model_selection import KFold, cross_val_score\n",
    "from sklearn.metrics import mean_squared_error\n",
    "import lightgbm as lgb"
   ]
  },
  {
   "cell_type": "markdown",
   "metadata": {},
   "source": [
    "Đọc dữ liệu "
   ]
  },
  {
   "cell_type": "code",
   "execution_count": 2,
   "metadata": {},
   "outputs": [],
   "source": [
    "train = pd.read_csv('./data/house-prices/train.csv')\n",
    "test  = pd.read_csv('./data/house-prices/test.csv')"
   ]
  },
  {
   "cell_type": "code",
   "execution_count": 3,
   "metadata": {},
   "outputs": [
    {
     "data": {
      "text/html": [
       "<div>\n",
       "<style scoped>\n",
       "    .dataframe tbody tr th:only-of-type {\n",
       "        vertical-align: middle;\n",
       "    }\n",
       "\n",
       "    .dataframe tbody tr th {\n",
       "        vertical-align: top;\n",
       "    }\n",
       "\n",
       "    .dataframe thead th {\n",
       "        text-align: right;\n",
       "    }\n",
       "</style>\n",
       "<table border=\"1\" class=\"dataframe\">\n",
       "  <thead>\n",
       "    <tr style=\"text-align: right;\">\n",
       "      <th></th>\n",
       "      <th>Id</th>\n",
       "      <th>MSSubClass</th>\n",
       "      <th>MSZoning</th>\n",
       "      <th>LotFrontage</th>\n",
       "      <th>LotArea</th>\n",
       "      <th>Street</th>\n",
       "      <th>Alley</th>\n",
       "      <th>LotShape</th>\n",
       "      <th>LandContour</th>\n",
       "      <th>Utilities</th>\n",
       "      <th>...</th>\n",
       "      <th>PoolArea</th>\n",
       "      <th>PoolQC</th>\n",
       "      <th>Fence</th>\n",
       "      <th>MiscFeature</th>\n",
       "      <th>MiscVal</th>\n",
       "      <th>MoSold</th>\n",
       "      <th>YrSold</th>\n",
       "      <th>SaleType</th>\n",
       "      <th>SaleCondition</th>\n",
       "      <th>SalePrice</th>\n",
       "    </tr>\n",
       "  </thead>\n",
       "  <tbody>\n",
       "    <tr>\n",
       "      <th>0</th>\n",
       "      <td>1</td>\n",
       "      <td>60</td>\n",
       "      <td>RL</td>\n",
       "      <td>65.0</td>\n",
       "      <td>8450</td>\n",
       "      <td>Pave</td>\n",
       "      <td>NaN</td>\n",
       "      <td>Reg</td>\n",
       "      <td>Lvl</td>\n",
       "      <td>AllPub</td>\n",
       "      <td>...</td>\n",
       "      <td>0</td>\n",
       "      <td>NaN</td>\n",
       "      <td>NaN</td>\n",
       "      <td>NaN</td>\n",
       "      <td>0</td>\n",
       "      <td>2</td>\n",
       "      <td>2008</td>\n",
       "      <td>WD</td>\n",
       "      <td>Normal</td>\n",
       "      <td>208500</td>\n",
       "    </tr>\n",
       "    <tr>\n",
       "      <th>1</th>\n",
       "      <td>2</td>\n",
       "      <td>20</td>\n",
       "      <td>RL</td>\n",
       "      <td>80.0</td>\n",
       "      <td>9600</td>\n",
       "      <td>Pave</td>\n",
       "      <td>NaN</td>\n",
       "      <td>Reg</td>\n",
       "      <td>Lvl</td>\n",
       "      <td>AllPub</td>\n",
       "      <td>...</td>\n",
       "      <td>0</td>\n",
       "      <td>NaN</td>\n",
       "      <td>NaN</td>\n",
       "      <td>NaN</td>\n",
       "      <td>0</td>\n",
       "      <td>5</td>\n",
       "      <td>2007</td>\n",
       "      <td>WD</td>\n",
       "      <td>Normal</td>\n",
       "      <td>181500</td>\n",
       "    </tr>\n",
       "    <tr>\n",
       "      <th>2</th>\n",
       "      <td>3</td>\n",
       "      <td>60</td>\n",
       "      <td>RL</td>\n",
       "      <td>68.0</td>\n",
       "      <td>11250</td>\n",
       "      <td>Pave</td>\n",
       "      <td>NaN</td>\n",
       "      <td>IR1</td>\n",
       "      <td>Lvl</td>\n",
       "      <td>AllPub</td>\n",
       "      <td>...</td>\n",
       "      <td>0</td>\n",
       "      <td>NaN</td>\n",
       "      <td>NaN</td>\n",
       "      <td>NaN</td>\n",
       "      <td>0</td>\n",
       "      <td>9</td>\n",
       "      <td>2008</td>\n",
       "      <td>WD</td>\n",
       "      <td>Normal</td>\n",
       "      <td>223500</td>\n",
       "    </tr>\n",
       "    <tr>\n",
       "      <th>3</th>\n",
       "      <td>4</td>\n",
       "      <td>70</td>\n",
       "      <td>RL</td>\n",
       "      <td>60.0</td>\n",
       "      <td>9550</td>\n",
       "      <td>Pave</td>\n",
       "      <td>NaN</td>\n",
       "      <td>IR1</td>\n",
       "      <td>Lvl</td>\n",
       "      <td>AllPub</td>\n",
       "      <td>...</td>\n",
       "      <td>0</td>\n",
       "      <td>NaN</td>\n",
       "      <td>NaN</td>\n",
       "      <td>NaN</td>\n",
       "      <td>0</td>\n",
       "      <td>2</td>\n",
       "      <td>2006</td>\n",
       "      <td>WD</td>\n",
       "      <td>Abnorml</td>\n",
       "      <td>140000</td>\n",
       "    </tr>\n",
       "    <tr>\n",
       "      <th>4</th>\n",
       "      <td>5</td>\n",
       "      <td>60</td>\n",
       "      <td>RL</td>\n",
       "      <td>84.0</td>\n",
       "      <td>14260</td>\n",
       "      <td>Pave</td>\n",
       "      <td>NaN</td>\n",
       "      <td>IR1</td>\n",
       "      <td>Lvl</td>\n",
       "      <td>AllPub</td>\n",
       "      <td>...</td>\n",
       "      <td>0</td>\n",
       "      <td>NaN</td>\n",
       "      <td>NaN</td>\n",
       "      <td>NaN</td>\n",
       "      <td>0</td>\n",
       "      <td>12</td>\n",
       "      <td>2008</td>\n",
       "      <td>WD</td>\n",
       "      <td>Normal</td>\n",
       "      <td>250000</td>\n",
       "    </tr>\n",
       "    <tr>\n",
       "      <th>5</th>\n",
       "      <td>6</td>\n",
       "      <td>50</td>\n",
       "      <td>RL</td>\n",
       "      <td>85.0</td>\n",
       "      <td>14115</td>\n",
       "      <td>Pave</td>\n",
       "      <td>NaN</td>\n",
       "      <td>IR1</td>\n",
       "      <td>Lvl</td>\n",
       "      <td>AllPub</td>\n",
       "      <td>...</td>\n",
       "      <td>0</td>\n",
       "      <td>NaN</td>\n",
       "      <td>MnPrv</td>\n",
       "      <td>Shed</td>\n",
       "      <td>700</td>\n",
       "      <td>10</td>\n",
       "      <td>2009</td>\n",
       "      <td>WD</td>\n",
       "      <td>Normal</td>\n",
       "      <td>143000</td>\n",
       "    </tr>\n",
       "    <tr>\n",
       "      <th>6</th>\n",
       "      <td>7</td>\n",
       "      <td>20</td>\n",
       "      <td>RL</td>\n",
       "      <td>75.0</td>\n",
       "      <td>10084</td>\n",
       "      <td>Pave</td>\n",
       "      <td>NaN</td>\n",
       "      <td>Reg</td>\n",
       "      <td>Lvl</td>\n",
       "      <td>AllPub</td>\n",
       "      <td>...</td>\n",
       "      <td>0</td>\n",
       "      <td>NaN</td>\n",
       "      <td>NaN</td>\n",
       "      <td>NaN</td>\n",
       "      <td>0</td>\n",
       "      <td>8</td>\n",
       "      <td>2007</td>\n",
       "      <td>WD</td>\n",
       "      <td>Normal</td>\n",
       "      <td>307000</td>\n",
       "    </tr>\n",
       "    <tr>\n",
       "      <th>7</th>\n",
       "      <td>8</td>\n",
       "      <td>60</td>\n",
       "      <td>RL</td>\n",
       "      <td>NaN</td>\n",
       "      <td>10382</td>\n",
       "      <td>Pave</td>\n",
       "      <td>NaN</td>\n",
       "      <td>IR1</td>\n",
       "      <td>Lvl</td>\n",
       "      <td>AllPub</td>\n",
       "      <td>...</td>\n",
       "      <td>0</td>\n",
       "      <td>NaN</td>\n",
       "      <td>NaN</td>\n",
       "      <td>Shed</td>\n",
       "      <td>350</td>\n",
       "      <td>11</td>\n",
       "      <td>2009</td>\n",
       "      <td>WD</td>\n",
       "      <td>Normal</td>\n",
       "      <td>200000</td>\n",
       "    </tr>\n",
       "    <tr>\n",
       "      <th>8</th>\n",
       "      <td>9</td>\n",
       "      <td>50</td>\n",
       "      <td>RM</td>\n",
       "      <td>51.0</td>\n",
       "      <td>6120</td>\n",
       "      <td>Pave</td>\n",
       "      <td>NaN</td>\n",
       "      <td>Reg</td>\n",
       "      <td>Lvl</td>\n",
       "      <td>AllPub</td>\n",
       "      <td>...</td>\n",
       "      <td>0</td>\n",
       "      <td>NaN</td>\n",
       "      <td>NaN</td>\n",
       "      <td>NaN</td>\n",
       "      <td>0</td>\n",
       "      <td>4</td>\n",
       "      <td>2008</td>\n",
       "      <td>WD</td>\n",
       "      <td>Abnorml</td>\n",
       "      <td>129900</td>\n",
       "    </tr>\n",
       "    <tr>\n",
       "      <th>9</th>\n",
       "      <td>10</td>\n",
       "      <td>190</td>\n",
       "      <td>RL</td>\n",
       "      <td>50.0</td>\n",
       "      <td>7420</td>\n",
       "      <td>Pave</td>\n",
       "      <td>NaN</td>\n",
       "      <td>Reg</td>\n",
       "      <td>Lvl</td>\n",
       "      <td>AllPub</td>\n",
       "      <td>...</td>\n",
       "      <td>0</td>\n",
       "      <td>NaN</td>\n",
       "      <td>NaN</td>\n",
       "      <td>NaN</td>\n",
       "      <td>0</td>\n",
       "      <td>1</td>\n",
       "      <td>2008</td>\n",
       "      <td>WD</td>\n",
       "      <td>Normal</td>\n",
       "      <td>118000</td>\n",
       "    </tr>\n",
       "  </tbody>\n",
       "</table>\n",
       "<p>10 rows × 81 columns</p>\n",
       "</div>"
      ],
      "text/plain": [
       "   Id  MSSubClass MSZoning  LotFrontage  LotArea Street Alley LotShape  \\\n",
       "0   1          60       RL         65.0     8450   Pave   NaN      Reg   \n",
       "1   2          20       RL         80.0     9600   Pave   NaN      Reg   \n",
       "2   3          60       RL         68.0    11250   Pave   NaN      IR1   \n",
       "3   4          70       RL         60.0     9550   Pave   NaN      IR1   \n",
       "4   5          60       RL         84.0    14260   Pave   NaN      IR1   \n",
       "5   6          50       RL         85.0    14115   Pave   NaN      IR1   \n",
       "6   7          20       RL         75.0    10084   Pave   NaN      Reg   \n",
       "7   8          60       RL          NaN    10382   Pave   NaN      IR1   \n",
       "8   9          50       RM         51.0     6120   Pave   NaN      Reg   \n",
       "9  10         190       RL         50.0     7420   Pave   NaN      Reg   \n",
       "\n",
       "  LandContour Utilities  ... PoolArea PoolQC  Fence MiscFeature MiscVal  \\\n",
       "0         Lvl    AllPub  ...        0    NaN    NaN         NaN       0   \n",
       "1         Lvl    AllPub  ...        0    NaN    NaN         NaN       0   \n",
       "2         Lvl    AllPub  ...        0    NaN    NaN         NaN       0   \n",
       "3         Lvl    AllPub  ...        0    NaN    NaN         NaN       0   \n",
       "4         Lvl    AllPub  ...        0    NaN    NaN         NaN       0   \n",
       "5         Lvl    AllPub  ...        0    NaN  MnPrv        Shed     700   \n",
       "6         Lvl    AllPub  ...        0    NaN    NaN         NaN       0   \n",
       "7         Lvl    AllPub  ...        0    NaN    NaN        Shed     350   \n",
       "8         Lvl    AllPub  ...        0    NaN    NaN         NaN       0   \n",
       "9         Lvl    AllPub  ...        0    NaN    NaN         NaN       0   \n",
       "\n",
       "  MoSold YrSold  SaleType  SaleCondition  SalePrice  \n",
       "0      2   2008        WD         Normal     208500  \n",
       "1      5   2007        WD         Normal     181500  \n",
       "2      9   2008        WD         Normal     223500  \n",
       "3      2   2006        WD        Abnorml     140000  \n",
       "4     12   2008        WD         Normal     250000  \n",
       "5     10   2009        WD         Normal     143000  \n",
       "6      8   2007        WD         Normal     307000  \n",
       "7     11   2009        WD         Normal     200000  \n",
       "8      4   2008        WD        Abnorml     129900  \n",
       "9      1   2008        WD         Normal     118000  \n",
       "\n",
       "[10 rows x 81 columns]"
      ]
     },
     "execution_count": 3,
     "metadata": {},
     "output_type": "execute_result"
    }
   ],
   "source": [
    "train.head(10)"
   ]
  },
  {
   "cell_type": "markdown",
   "metadata": {},
   "source": [
    "# <a id='1'>1. Feature engineering </a>\n",
    "\n",
    "### Feature engineeing tuần 1: \n",
    "   +  Xóa các hàng dữ liệu bất thường (là các hàng dữ liệu có diện tích lớn hơn 4000 và giá nhà bé hơn 200.000)\n",
    "   +  Xử lý dữ liệu thiếu: \n",
    "        + Thay giá trị NaN ở các trường có tỷ lệ thấp bằng giá trị phân loại có tần suất xuất hiện cao nhất\n",
    "        + Điền NaN ở trường numeric bằng giá trị  0, điền NaN ở các trường phân loại bằng giá trị \"None\"\n",
    "   +  Xử lý dữ liệu số : \n",
    "        + Log transform các cột dữ liệu có giá trị lớn\n",
    "        + Xử lý các cột dữ liệu thời gian (cột năm xây dựng => cột thời gian sử dụng, tính tới năm 2018)\n",
    "   +  Xử lý dữ liệu phân loại: \n",
    "        + One hot encoding tất cả trường phân loại "
   ]
  },
  {
   "cell_type": "markdown",
   "metadata": {},
   "source": [
    "### ==>> Kết quả RMSLE trên cross-validation đạt: 0.121"
   ]
  },
  {
   "cell_type": "markdown",
   "metadata": {},
   "source": [
    "### Feature engineering tuần 2: \n",
    "Ở tuần thứ hai, chúng ta tìm hiểu sâu hơn data, từ đó đề xuất những phương pháp xử lý data phù hợp hơn cho mỗi trường dữ liệu. \n",
    "### Tổng quan các bước xử lý data: \n",
    "   +  Xóa các hàng dữ liệu bất thường (là các hàng dữ liệu có diện tích lớn hơn 4.000 và giá nhà thấp hơn 200.000)\n",
    "   +  Xử lý dữ liệu thiếu: \n",
    "        +  Tạo cột dữ liệu mới tương ứng với NaN hoặc không Nan tương ứng với các cột dữ liệu thiếu \n",
    "        +  Qua tìm hiểu ý nghĩa của giá trị thiếu ở mỗi trường dữ liệu, điền NaN bằng các số liệu thích hợp hơn.\n",
    "   +  Xử lý dữ liệu dạng số : \n",
    "        +  Giới thiệu phép biến đổi mới (box-cox) để chuẩn hóa những dữ liệu skewed. \n",
    "        +  Xử lý các cột dữ liệu thời gian (cột năm xây dựng => cột thời gian sử dụng, tính tới năm 2018)\n",
    "        +  Tạo những cộ dữ liệu mới. \n",
    "   +  Xử lý dữ liệu phân loại: \n",
    "        + Lable encoding những trường dữ liệu mang tính chất thứ tự. Ví dụ: ở trường dữ liệu \"ExterCond\" có các giá trị phân loại \n",
    "          + Ex\tExcellent       -->5\n",
    "          + Gd\tGood            -->4\n",
    "          + TA\tAverage/Typical -->3\n",
    "          + Fa\tFair            -->2\n",
    "          + Po\tPoor            -->1\n",
    "        + One hot encoding các trường dữ liệu phân loại còn lại "
   ]
  },
  {
   "cell_type": "markdown",
   "metadata": {},
   "source": [
    "# <a id='1.1*'>1.1*. Xóa các cột dữ liệu bất thường </a>\n",
    "\n",
    "Như đã nhận xét ở tuần trước,  các hàng dữ liệu bất thường gây ra hiện tượng underfitting, việc xóa các hàng này sẽ giúp cho việc xây dựng mô hình bằng phương pháp cross validation có độ tin tưởng cao hơn. \n"
   ]
  },
  {
   "cell_type": "code",
   "execution_count": 4,
   "metadata": {},
   "outputs": [
    {
     "data": {
      "text/plain": [
       "<AxesSubplot:xlabel='GrLivArea', ylabel='SalePrice'>"
      ]
     },
     "execution_count": 4,
     "metadata": {},
     "output_type": "execute_result"
    },
    {
     "data": {
      "image/png": "[encoded data removed]",
      "text/plain": [
       "<Figure size 432x288 with 1 Axes>"
      ]
     },
     "metadata": {
      "needs_background": "light"
     },
     "output_type": "display_data"
    }
   ],
   "source": [
    "#scatter plot grlivarea/saleprice\n",
    "var = 'GrLivArea'\n",
    "#scatter plot\n",
    "sns.regplot(data = train, x= var, y=\"SalePrice\")\n",
    "#plt.scatter(train[var], train['SalePrice']);"
   ]
  },
  {
   "cell_type": "code",
   "execution_count": 5,
   "metadata": {},
   "outputs": [],
   "source": [
    "train = train.drop(train[(train['GrLivArea']>4000) & (train['SalePrice']<200000)].index)"
   ]
  },
  {
   "cell_type": "code",
   "execution_count": 6,
   "metadata": {},
   "outputs": [
    {
     "name": "stdout",
     "output_type": "stream",
     "text": [
      "data size is : (2917, 79)\n"
     ]
    }
   ],
   "source": [
    "ntrain = train.shape[0]\n",
    "ntest = test.shape[0]\n",
    "target = train.SalePrice.values\n",
    "data = pd.concat((train, test)).reset_index(drop=True)\n",
    "data.drop(['SalePrice', 'Id'], axis=1, inplace=True)\n",
    "print(\"data size is : {}\".format(data.shape))"
   ]
  },
  {
   "cell_type": "markdown",
   "metadata": {},
   "source": [
    "# <a id='1.2*'>1.2*. Xử lý data thiếu </a>"
   ]
  },
  {
   "cell_type": "code",
   "execution_count": 7,
   "metadata": {},
   "outputs": [],
   "source": [
    "def missing_values_table(df):\n",
    "        # Total missing values\n",
    "    mis_val = df.isnull().sum()        \n",
    "        # Percentage of missing values\n",
    "    mis_val_percent = 100 * df.isnull().sum() / len(df)     \n",
    "        # Make a table with the results\n",
    "    mis_val_table = pd.concat([mis_val, mis_val_percent], axis=1)     \n",
    "        # Rename the columns\n",
    "    mis_val_table_ren_columns = mis_val_table.rename(\n",
    "    columns = {0 : 'Missing Values', 1 : '% of Total Values'})      \n",
    "        # Sort the table by percentage of missing descending\n",
    "    mis_val_table_ren_columns = mis_val_table_ren_columns[\n",
    "            mis_val_table_ren_columns.iloc[:,1] != 0].sort_values(\n",
    "        '% of Total Values', ascending=False).round(1)      \n",
    "    return mis_val_table_ren_columns"
   ]
  },
  {
   "cell_type": "code",
   "execution_count": 8,
   "metadata": {},
   "outputs": [
    {
     "data": {
      "text/html": [
       "<div>\n",
       "<style scoped>\n",
       "    .dataframe tbody tr th:only-of-type {\n",
       "        vertical-align: middle;\n",
       "    }\n",
       "\n",
       "    .dataframe tbody tr th {\n",
       "        vertical-align: top;\n",
       "    }\n",
       "\n",
       "    .dataframe thead th {\n",
       "        text-align: right;\n",
       "    }\n",
       "</style>\n",
       "<table border=\"1\" class=\"dataframe\">\n",
       "  <thead>\n",
       "    <tr style=\"text-align: right;\">\n",
       "      <th></th>\n",
       "      <th>Missing Values</th>\n",
       "      <th>% of Total Values</th>\n",
       "    </tr>\n",
       "  </thead>\n",
       "  <tbody>\n",
       "    <tr>\n",
       "      <th>PoolQC</th>\n",
       "      <td>2908</td>\n",
       "      <td>99.7</td>\n",
       "    </tr>\n",
       "    <tr>\n",
       "      <th>MiscFeature</th>\n",
       "      <td>2812</td>\n",
       "      <td>96.4</td>\n",
       "    </tr>\n",
       "    <tr>\n",
       "      <th>Alley</th>\n",
       "      <td>2719</td>\n",
       "      <td>93.2</td>\n",
       "    </tr>\n",
       "    <tr>\n",
       "      <th>Fence</th>\n",
       "      <td>2346</td>\n",
       "      <td>80.4</td>\n",
       "    </tr>\n",
       "    <tr>\n",
       "      <th>FireplaceQu</th>\n",
       "      <td>1420</td>\n",
       "      <td>48.7</td>\n",
       "    </tr>\n",
       "    <tr>\n",
       "      <th>LotFrontage</th>\n",
       "      <td>486</td>\n",
       "      <td>16.7</td>\n",
       "    </tr>\n",
       "    <tr>\n",
       "      <th>GarageFinish</th>\n",
       "      <td>159</td>\n",
       "      <td>5.5</td>\n",
       "    </tr>\n",
       "    <tr>\n",
       "      <th>GarageQual</th>\n",
       "      <td>159</td>\n",
       "      <td>5.5</td>\n",
       "    </tr>\n",
       "    <tr>\n",
       "      <th>GarageCond</th>\n",
       "      <td>159</td>\n",
       "      <td>5.5</td>\n",
       "    </tr>\n",
       "    <tr>\n",
       "      <th>GarageYrBlt</th>\n",
       "      <td>159</td>\n",
       "      <td>5.5</td>\n",
       "    </tr>\n",
       "  </tbody>\n",
       "</table>\n",
       "</div>"
      ],
      "text/plain": [
       "              Missing Values  % of Total Values\n",
       "PoolQC                  2908               99.7\n",
       "MiscFeature             2812               96.4\n",
       "Alley                   2719               93.2\n",
       "Fence                   2346               80.4\n",
       "FireplaceQu             1420               48.7\n",
       "LotFrontage              486               16.7\n",
       "GarageFinish             159                5.5\n",
       "GarageQual               159                5.5\n",
       "GarageCond               159                5.5\n",
       "GarageYrBlt              159                5.5"
      ]
     },
     "execution_count": 8,
     "metadata": {},
     "output_type": "execute_result"
    }
   ],
   "source": [
    "missing_values_table(data).head(10)"
   ]
  },
  {
   "cell_type": "markdown",
   "metadata": {},
   "source": [
    "#### Phân tích kĩ data và ý nghĩa các trường dữ liệu có thể nhận thấy:\n",
    "\n",
    " + Một số giá trị NaN được cố ý để trống vì không có thông tin thích hợp, ví dụ ở trường \"Alley\" (mô tả loại hẻm vào nhà), giá trị NaN nghĩa là không có hẻm trong ngôi nhà cụ thể đó.\n",
    " + Một số giá trị NaN được để thiếu để ám chỉ giá trị 0 (thường các trường liên quan đến diện tích, diện tích gara, ...). \n",
    " \n"
   ]
  },
  {
   "cell_type": "markdown",
   "metadata": {},
   "source": [
    "#### Chúng ta có 2 dạng giá trị NaN sau: "
   ]
  },
  {
   "cell_type": "markdown",
   "metadata": {},
   "source": [
    " + Giá trị có NaN được cố ý để trống vì không có giá trị phù hợp: với các trường này chúng ta thay NaN bằng một giá trị mới là \"None\""
   ]
  },
  {
   "cell_type": "code",
   "execution_count": 9,
   "metadata": {},
   "outputs": [],
   "source": [
    "NaN_None_columns = [\"Alley\", \"PoolQC\", \"MiscFeature\",\"Fence\",\n",
    "                   \"FireplaceQu\",\"GarageType\",\"GarageFinish\",\n",
    "                   \"GarageQual\",\"GarageCond\",'BsmtQual','BsmtCond',\n",
    "                    'BsmtExposure','BsmtFinType1','BsmtFinType2',\n",
    "                    'MasVnrType']\n",
    "## fill Nan the above columns by None\n",
    "for feature in NaN_None_columns:\n",
    "    data[feature]= data[feature].fillna(\"None\")"
   ]
  },
  {
   "cell_type": "markdown",
   "metadata": {},
   "source": [
    " + Giá trị NaN xuất hiện ở trường diện tích vì nhà không phòng, gara , ...."
   ]
  },
  {
   "cell_type": "code",
   "execution_count": 10,
   "metadata": {},
   "outputs": [],
   "source": [
    "NaN_zero_columns = ['BsmtFinSF1','BsmtFinSF2','BsmtUnfSF',\n",
    "                    'TotalBsmtSF','BsmtFullBath', 'BsmtHalfBath', \n",
    "                    'GarageYrBlt','GarageArea','GarageCars',\n",
    "                    'MasVnrArea']\n",
    "## fill Nan the above columns by 0\n",
    "for feature in NaN_zero_columns:\n",
    "    data[feature]= data[feature].fillna(0)"
   ]
  },
  {
   "cell_type": "markdown",
   "metadata": {},
   "source": [
    "#### Ngoài ra, dữ liệu thiếu của trường LotFrontage (khoảng cách từ nhà tới đường) được thay thế bằng khoảng cách trung bình của nhà xung quanh tới đường."
   ]
  },
  {
   "cell_type": "code",
   "execution_count": 11,
   "metadata": {},
   "outputs": [],
   "source": [
    "data['LotFrontage'] = data.groupby('Neighborhood')['LotFrontage'].transform(lambda x: x.fillna(x.median()))"
   ]
  },
  {
   "cell_type": "code",
   "execution_count": 12,
   "metadata": {},
   "outputs": [
    {
     "data": {
      "text/html": [
       "<div>\n",
       "<style scoped>\n",
       "    .dataframe tbody tr th:only-of-type {\n",
       "        vertical-align: middle;\n",
       "    }\n",
       "\n",
       "    .dataframe tbody tr th {\n",
       "        vertical-align: top;\n",
       "    }\n",
       "\n",
       "    .dataframe thead th {\n",
       "        text-align: right;\n",
       "    }\n",
       "</style>\n",
       "<table border=\"1\" class=\"dataframe\">\n",
       "  <thead>\n",
       "    <tr style=\"text-align: right;\">\n",
       "      <th></th>\n",
       "      <th>Missing Values</th>\n",
       "      <th>% of Total Values</th>\n",
       "    </tr>\n",
       "  </thead>\n",
       "  <tbody>\n",
       "    <tr>\n",
       "      <th>MSZoning</th>\n",
       "      <td>4</td>\n",
       "      <td>0.1</td>\n",
       "    </tr>\n",
       "    <tr>\n",
       "      <th>Utilities</th>\n",
       "      <td>2</td>\n",
       "      <td>0.1</td>\n",
       "    </tr>\n",
       "    <tr>\n",
       "      <th>Functional</th>\n",
       "      <td>2</td>\n",
       "      <td>0.1</td>\n",
       "    </tr>\n",
       "    <tr>\n",
       "      <th>Exterior1st</th>\n",
       "      <td>1</td>\n",
       "      <td>0.0</td>\n",
       "    </tr>\n",
       "    <tr>\n",
       "      <th>Exterior2nd</th>\n",
       "      <td>1</td>\n",
       "      <td>0.0</td>\n",
       "    </tr>\n",
       "    <tr>\n",
       "      <th>Electrical</th>\n",
       "      <td>1</td>\n",
       "      <td>0.0</td>\n",
       "    </tr>\n",
       "    <tr>\n",
       "      <th>KitchenQual</th>\n",
       "      <td>1</td>\n",
       "      <td>0.0</td>\n",
       "    </tr>\n",
       "    <tr>\n",
       "      <th>SaleType</th>\n",
       "      <td>1</td>\n",
       "      <td>0.0</td>\n",
       "    </tr>\n",
       "  </tbody>\n",
       "</table>\n",
       "</div>"
      ],
      "text/plain": [
       "             Missing Values  % of Total Values\n",
       "MSZoning                  4                0.1\n",
       "Utilities                 2                0.1\n",
       "Functional                2                0.1\n",
       "Exterior1st               1                0.0\n",
       "Exterior2nd               1                0.0\n",
       "Electrical                1                0.0\n",
       "KitchenQual               1                0.0\n",
       "SaleType                  1                0.0"
      ]
     },
     "execution_count": 12,
     "metadata": {},
     "output_type": "execute_result"
    }
   ],
   "source": [
    "missing_values_table(data)"
   ]
  },
  {
   "cell_type": "markdown",
   "metadata": {},
   "source": [
    "#### Kiểm tra lại tập dữ liệu, sau ba bước điền NaN, còn 8 trường có tỷ lệ NaN thấp. Chúng ta sẽ thay giá trị Nan bởi giá trị có tần suất xuất hiện cao nhất. "
   ]
  },
  {
   "cell_type": "code",
   "execution_count": 13,
   "metadata": {},
   "outputs": [],
   "source": [
    "rate_nan_columns = ['MSZoning','Utilities','Functional',\n",
    "                    'Exterior1st','Exterior2nd','Electrical',\n",
    "                    'KitchenQual','SaleType']\n",
    "for feature in rate_nan_columns:\n",
    "    data[feature] = data[feature].fillna(data[feature].mode()[0])"
   ]
  },
  {
   "cell_type": "markdown",
   "metadata": {},
   "source": [
    "#### Kiểm tra tỉ lệ missing data"
   ]
  },
  {
   "cell_type": "code",
   "execution_count": 14,
   "metadata": {},
   "outputs": [
    {
     "data": {
      "text/html": [
       "<div>\n",
       "<style scoped>\n",
       "    .dataframe tbody tr th:only-of-type {\n",
       "        vertical-align: middle;\n",
       "    }\n",
       "\n",
       "    .dataframe tbody tr th {\n",
       "        vertical-align: top;\n",
       "    }\n",
       "\n",
       "    .dataframe thead th {\n",
       "        text-align: right;\n",
       "    }\n",
       "</style>\n",
       "<table border=\"1\" class=\"dataframe\">\n",
       "  <thead>\n",
       "    <tr style=\"text-align: right;\">\n",
       "      <th></th>\n",
       "      <th>Missing Values</th>\n",
       "      <th>% of Total Values</th>\n",
       "    </tr>\n",
       "  </thead>\n",
       "  <tbody>\n",
       "  </tbody>\n",
       "</table>\n",
       "</div>"
      ],
      "text/plain": [
       "Empty DataFrame\n",
       "Columns: [Missing Values, % of Total Values]\n",
       "Index: []"
      ]
     },
     "execution_count": 14,
     "metadata": {},
     "output_type": "execute_result"
    }
   ],
   "source": [
    "missing_values_table(data)"
   ]
  },
  {
   "cell_type": "markdown",
   "metadata": {},
   "source": [
    "#### Như vậy đã điền hết được các giá trị NaN"
   ]
  },
  {
   "cell_type": "markdown",
   "metadata": {},
   "source": [
    "# <a id='1.1*'>1.1*. Xử lý trường dữ liệu số </a>"
   ]
  },
  {
   "cell_type": "markdown",
   "metadata": {},
   "source": [
    "Tiến hành : \n",
    "   + Chuẩn hóa các cột có độ chênh lệch (skewed) lớn: định nghĩa ở đây, các trường dữ liệu có $skew > 0.5$ \n",
    "   + Tạo những trường dữ liệu mới "
   ]
  },
  {
   "cell_type": "markdown",
   "metadata": {},
   "source": [
    "### Sử dụng [phép biến đổi](https://docs.scipy.org/doc/scipy/reference/stats.html#transformations) Box-Cox để chuẩn hóa các cột có dữ liệu chênh lệch\n",
    "Công thức của phép biến đổi Box-Cox ([Box-Cox Transformations](https://www.statisticshowto.com/box-cox-transformation/))\n",
    "$$y(\\lambda) =  \\left\\{\\begin{array}{cc}\\frac{y^{\\lambda}-1}{\\lambda}, \\quad if \\quad \\lambda \\neq 0\\\\\n",
    "\\log(y)\\quad if \\quad \\lambda = 0.\n",
    "\\end{array}\\right.$$"
   ]
  },
  {
   "cell_type": "code",
   "execution_count": 15,
   "metadata": {},
   "outputs": [],
   "source": [
    "from scipy.stats import skew  # for some statistics\n",
    "from scipy.special import boxcox1p\n",
    "from scipy.stats import boxcox_normmax"
   ]
  },
  {
   "cell_type": "markdown",
   "metadata": {},
   "source": [
    "#### Chúng ta sử dụng gói thư viện boxcox của scipy "
   ]
  },
  {
   "cell_type": "code",
   "execution_count": 16,
   "metadata": {},
   "outputs": [
    {
     "data": {
      "image/png": "[encoded data removed]",
      "text/plain": [
       "<Figure size 432x288 with 1 Axes>"
      ]
     },
     "metadata": {
      "needs_background": "light"
     },
     "output_type": "display_data"
    },
    {
     "data": {
      "image/png": "[encoded data removed]",
      "text/plain": [
       "<Figure size 432x288 with 1 Axes>"
      ]
     },
     "metadata": {
      "needs_background": "light"
     },
     "output_type": "display_data"
    }
   ],
   "source": [
    "#histogram and normal probability plot\n",
    "sns.distplot(data['GrLivArea'], fit=norm);\n",
    "fig = plt.figure()\n",
    "res = stats.probplot(data['GrLivArea'], plot=plt)"
   ]
  },
  {
   "cell_type": "code",
   "execution_count": 17,
   "metadata": {},
   "outputs": [
    {
     "data": {
      "image/png": "[encoded data removed]",
      "text/plain": [
       "<Figure size 432x288 with 1 Axes>"
      ]
     },
     "metadata": {
      "needs_background": "light"
     },
     "output_type": "display_data"
    },
    {
     "data": {
      "image/png": "[encoded data removed]",
      "text/plain": [
       "<Figure size 432x288 with 1 Axes>"
      ]
     },
     "metadata": {
      "needs_background": "light"
     },
     "output_type": "display_data"
    }
   ],
   "source": [
    "#histogram and normal probability plot\n",
    "sns.distplot(boxcox1p(data['GrLivArea'],boxcox_normmax(data['GrLivArea']+ 1)), fit=norm);\n",
    "fig = plt.figure()\n",
    "res = stats.probplot(boxcox1p(data['GrLivArea'],boxcox_normmax(data['GrLivArea']+ 1)), plot=plt)"
   ]
  },
  {
   "cell_type": "markdown",
   "metadata": {},
   "source": [
    "#### Áp dụng biến đổi Box-Cox cho tất cả trường dữ liệu có chỉ số skew lớn hơn 0.5"
   ]
  },
  {
   "cell_type": "code",
   "execution_count": 18,
   "metadata": {},
   "outputs": [],
   "source": [
    "## Áp dụng  Box-Cox transform thay vì log1p transform\n",
    "transform = boxcox1p\n",
    "numeric_dtypes = ['int16', 'int32', 'int64', 'float16', 'float32', 'float64']\n",
    "numerics = []\n",
    "for i in data.columns:\n",
    "    if data[i].dtype in numeric_dtypes:\n",
    "        numerics.append(i)\n",
    "skew_features = data[numerics].apply(lambda x: skew(x)).sort_values(ascending=False)\n",
    "\n",
    "high_skew = skew_features[skew_features > 0.5]\n",
    "skew_index = high_skew.index\n",
    "\n",
    "for i in skew_index:\n",
    "    data[i] = transform(data[i], boxcox_normmax(data[i] + 1))"
   ]
  },
  {
   "cell_type": "markdown",
   "metadata": {},
   "source": [
    "### Tạo những cột feature mới "
   ]
  },
  {
   "cell_type": "markdown",
   "metadata": {},
   "source": [
    " #### Từ thông tin nếu 'YearRemodAdd' (Năm tu sửa) == 'YearBuilt' (Năm xây dựng) ==> Nhà không tu sửa. Tạo cột dữ liệu nhà có tu sửa hay không ?"
   ]
  },
  {
   "cell_type": "code",
   "execution_count": 19,
   "metadata": {},
   "outputs": [],
   "source": [
    " data['YrBltdiffRemod'] = (data['YearBuilt']==data['YearRemodAdd'])*1"
   ]
  },
  {
   "cell_type": "markdown",
   "metadata": {},
   "source": [
    "#### Tạo cột dữ liệu tổng diện tích nhà ở bằng tổng diện tích tầng hầm, tầng 1 và tầng 2. "
   ]
  },
  {
   "cell_type": "code",
   "execution_count": 20,
   "metadata": {},
   "outputs": [],
   "source": [
    "data['TotalSF'] = data['TotalBsmtSF'] + data['1stFlrSF'] + data['2ndFlrSF']"
   ]
  },
  {
   "cell_type": "code",
   "execution_count": 21,
   "metadata": {},
   "outputs": [],
   "source": [
    "## total footage\n",
    "data['Total_sqr_footage'] = (data['BsmtFinSF1'] + data['BsmtFinSF2'] +\n",
    "                                 data['1stFlrSF'] + data['2ndFlrSF'])"
   ]
  },
  {
   "cell_type": "code",
   "execution_count": 22,
   "metadata": {},
   "outputs": [],
   "source": [
    "#total bathroom \n",
    "data['Total_Bathrooms'] = (data['FullBath'] + (0.5 * data['HalfBath']) +\n",
    "                               data['BsmtFullBath'] + (0.5 * data['BsmtHalfBath']))"
   ]
  },
  {
   "cell_type": "code",
   "execution_count": 23,
   "metadata": {},
   "outputs": [],
   "source": [
    "## total porch\n",
    "data['Total_porch_sf'] = (data['OpenPorchSF'] + data['3SsnPorch'] +\n",
    "                              data['EnclosedPorch'] + data['ScreenPorch'] +\n",
    "                              data['WoodDeckSF'])"
   ]
  },
  {
   "cell_type": "markdown",
   "metadata": {},
   "source": [
    "#### Từ dữ liệu diện tích các hạng mục nhà, tạo những trường dữ liệu mới. Ví dụ: có bể bơi hay không?, có tầng 2 hay không , etc, ...  "
   ]
  },
  {
   "cell_type": "code",
   "execution_count": 24,
   "metadata": {},
   "outputs": [],
   "source": [
    "data['haspool'] = data['PoolArea'].apply(lambda x: 1 if x > 0 else 0)\n",
    "data['has2ndfloor'] = data['2ndFlrSF'].apply(lambda x: 1 if x > 0 else 0)\n",
    "data['hasgarage'] = data['GarageArea'].apply(lambda x: 1 if x > 0 else 0)\n",
    "data['hasbsmt'] = data['TotalBsmtSF'].apply(lambda x: 1 if x > 0 else 0)\n",
    "data['hasfireplace'] = data['Fireplaces'].apply(lambda x: 1 if x > 0 else 0)"
   ]
  },
  {
   "cell_type": "markdown",
   "metadata": {},
   "source": [
    "#### Tạo trường dữ liệu năm sử dụng = năm bán - năm xây dựng"
   ]
  },
  {
   "cell_type": "code",
   "execution_count": 25,
   "metadata": {},
   "outputs": [],
   "source": [
    "data['YearBuiltDur'] = data['YrSold'] - data['YearBuilt']\n",
    "data['YearRemodAddDur'] = data['YrSold'] - data['YearRemodAdd']\n",
    "data['GarageYrBltDur'] = data['YrSold'] - data['GarageYrBlt']"
   ]
  },
  {
   "cell_type": "markdown",
   "metadata": {},
   "source": [
    "\n",
    "# <a id='1.1*'>1.1*. Xử lý trường dữ liệu phân loại </a>\n"
   ]
  },
  {
   "cell_type": "markdown",
   "metadata": {},
   "source": [
    "### Các bước xử lý : \n",
    "   + Xóa các trường dữ liệu có chênh lệch data lớn dễ gây overfitting dữ liệu.\n",
    "   + Những trường phân loại mang tính đánh giá chất lượng, sử dụng label encoding dựa trên chất lượng.\n",
    "   + Ở trường phân loại có những dữ liệu có tần suất xuất hiện thấp, gộp chung các phân loại này thành một. \n",
    "   + One hot encoding các trường dữ liệu còn lại.\n",
    "   "
   ]
  },
  {
   "cell_type": "markdown",
   "metadata": {},
   "source": [
    "#### Quan sát các trường dữ liệu phân loại  "
   ]
  },
  {
   "cell_type": "code",
   "execution_count": 26,
   "metadata": {},
   "outputs": [
    {
     "data": {
      "text/html": [
       "<div>\n",
       "<style scoped>\n",
       "    .dataframe tbody tr th:only-of-type {\n",
       "        vertical-align: middle;\n",
       "    }\n",
       "\n",
       "    .dataframe tbody tr th {\n",
       "        vertical-align: top;\n",
       "    }\n",
       "\n",
       "    .dataframe thead th {\n",
       "        text-align: right;\n",
       "    }\n",
       "</style>\n",
       "<table border=\"1\" class=\"dataframe\">\n",
       "  <thead>\n",
       "    <tr style=\"text-align: right;\">\n",
       "      <th></th>\n",
       "      <th>MSZoning</th>\n",
       "      <th>Street</th>\n",
       "      <th>Alley</th>\n",
       "      <th>LotShape</th>\n",
       "      <th>LandContour</th>\n",
       "      <th>Utilities</th>\n",
       "      <th>LotConfig</th>\n",
       "      <th>LandSlope</th>\n",
       "      <th>Neighborhood</th>\n",
       "      <th>Condition1</th>\n",
       "      <th>...</th>\n",
       "      <th>GarageType</th>\n",
       "      <th>GarageFinish</th>\n",
       "      <th>GarageQual</th>\n",
       "      <th>GarageCond</th>\n",
       "      <th>PavedDrive</th>\n",
       "      <th>PoolQC</th>\n",
       "      <th>Fence</th>\n",
       "      <th>MiscFeature</th>\n",
       "      <th>SaleType</th>\n",
       "      <th>SaleCondition</th>\n",
       "    </tr>\n",
       "  </thead>\n",
       "  <tbody>\n",
       "    <tr>\n",
       "      <th>0</th>\n",
       "      <td>RL</td>\n",
       "      <td>Pave</td>\n",
       "      <td>None</td>\n",
       "      <td>Reg</td>\n",
       "      <td>Lvl</td>\n",
       "      <td>AllPub</td>\n",
       "      <td>Inside</td>\n",
       "      <td>Gtl</td>\n",
       "      <td>CollgCr</td>\n",
       "      <td>Norm</td>\n",
       "      <td>...</td>\n",
       "      <td>Attchd</td>\n",
       "      <td>RFn</td>\n",
       "      <td>TA</td>\n",
       "      <td>TA</td>\n",
       "      <td>Y</td>\n",
       "      <td>None</td>\n",
       "      <td>None</td>\n",
       "      <td>None</td>\n",
       "      <td>WD</td>\n",
       "      <td>Normal</td>\n",
       "    </tr>\n",
       "    <tr>\n",
       "      <th>1</th>\n",
       "      <td>RL</td>\n",
       "      <td>Pave</td>\n",
       "      <td>None</td>\n",
       "      <td>Reg</td>\n",
       "      <td>Lvl</td>\n",
       "      <td>AllPub</td>\n",
       "      <td>FR2</td>\n",
       "      <td>Gtl</td>\n",
       "      <td>Veenker</td>\n",
       "      <td>Feedr</td>\n",
       "      <td>...</td>\n",
       "      <td>Attchd</td>\n",
       "      <td>RFn</td>\n",
       "      <td>TA</td>\n",
       "      <td>TA</td>\n",
       "      <td>Y</td>\n",
       "      <td>None</td>\n",
       "      <td>None</td>\n",
       "      <td>None</td>\n",
       "      <td>WD</td>\n",
       "      <td>Normal</td>\n",
       "    </tr>\n",
       "    <tr>\n",
       "      <th>2</th>\n",
       "      <td>RL</td>\n",
       "      <td>Pave</td>\n",
       "      <td>None</td>\n",
       "      <td>IR1</td>\n",
       "      <td>Lvl</td>\n",
       "      <td>AllPub</td>\n",
       "      <td>Inside</td>\n",
       "      <td>Gtl</td>\n",
       "      <td>CollgCr</td>\n",
       "      <td>Norm</td>\n",
       "      <td>...</td>\n",
       "      <td>Attchd</td>\n",
       "      <td>RFn</td>\n",
       "      <td>TA</td>\n",
       "      <td>TA</td>\n",
       "      <td>Y</td>\n",
       "      <td>None</td>\n",
       "      <td>None</td>\n",
       "      <td>None</td>\n",
       "      <td>WD</td>\n",
       "      <td>Normal</td>\n",
       "    </tr>\n",
       "    <tr>\n",
       "      <th>3</th>\n",
       "      <td>RL</td>\n",
       "      <td>Pave</td>\n",
       "      <td>None</td>\n",
       "      <td>IR1</td>\n",
       "      <td>Lvl</td>\n",
       "      <td>AllPub</td>\n",
       "      <td>Corner</td>\n",
       "      <td>Gtl</td>\n",
       "      <td>Crawfor</td>\n",
       "      <td>Norm</td>\n",
       "      <td>...</td>\n",
       "      <td>Detchd</td>\n",
       "      <td>Unf</td>\n",
       "      <td>TA</td>\n",
       "      <td>TA</td>\n",
       "      <td>Y</td>\n",
       "      <td>None</td>\n",
       "      <td>None</td>\n",
       "      <td>None</td>\n",
       "      <td>WD</td>\n",
       "      <td>Abnorml</td>\n",
       "    </tr>\n",
       "    <tr>\n",
       "      <th>4</th>\n",
       "      <td>RL</td>\n",
       "      <td>Pave</td>\n",
       "      <td>None</td>\n",
       "      <td>IR1</td>\n",
       "      <td>Lvl</td>\n",
       "      <td>AllPub</td>\n",
       "      <td>FR2</td>\n",
       "      <td>Gtl</td>\n",
       "      <td>NoRidge</td>\n",
       "      <td>Norm</td>\n",
       "      <td>...</td>\n",
       "      <td>Attchd</td>\n",
       "      <td>RFn</td>\n",
       "      <td>TA</td>\n",
       "      <td>TA</td>\n",
       "      <td>Y</td>\n",
       "      <td>None</td>\n",
       "      <td>None</td>\n",
       "      <td>None</td>\n",
       "      <td>WD</td>\n",
       "      <td>Normal</td>\n",
       "    </tr>\n",
       "  </tbody>\n",
       "</table>\n",
       "<p>5 rows × 43 columns</p>\n",
       "</div>"
      ],
      "text/plain": [
       "  MSZoning Street Alley LotShape LandContour Utilities LotConfig LandSlope  \\\n",
       "0       RL   Pave  None      Reg         Lvl    AllPub    Inside       Gtl   \n",
       "1       RL   Pave  None      Reg         Lvl    AllPub       FR2       Gtl   \n",
       "2       RL   Pave  None      IR1         Lvl    AllPub    Inside       Gtl   \n",
       "3       RL   Pave  None      IR1         Lvl    AllPub    Corner       Gtl   \n",
       "4       RL   Pave  None      IR1         Lvl    AllPub       FR2       Gtl   \n",
       "\n",
       "  Neighborhood Condition1  ... GarageType GarageFinish GarageQual GarageCond  \\\n",
       "0      CollgCr       Norm  ...     Attchd          RFn         TA         TA   \n",
       "1      Veenker      Feedr  ...     Attchd          RFn         TA         TA   \n",
       "2      CollgCr       Norm  ...     Attchd          RFn         TA         TA   \n",
       "3      Crawfor       Norm  ...     Detchd          Unf         TA         TA   \n",
       "4      NoRidge       Norm  ...     Attchd          RFn         TA         TA   \n",
       "\n",
       "  PavedDrive PoolQC Fence MiscFeature SaleType SaleCondition  \n",
       "0          Y   None  None        None       WD        Normal  \n",
       "1          Y   None  None        None       WD        Normal  \n",
       "2          Y   None  None        None       WD        Normal  \n",
       "3          Y   None  None        None       WD       Abnorml  \n",
       "4          Y   None  None        None       WD        Normal  \n",
       "\n",
       "[5 rows x 43 columns]"
      ]
     },
     "execution_count": 26,
     "metadata": {},
     "output_type": "execute_result"
    }
   ],
   "source": [
    "categorical_features = data.select_dtypes(exclude=[np.number])\n",
    "categorical_columns = categorical_features.columns\n",
    "data[categorical_columns].head()"
   ]
  },
  {
   "cell_type": "markdown",
   "metadata": {},
   "source": [
    "#### Xóa những cột dữ liệu phân loại có sự chênh lệch quá cao về quy mô giữa các phân lớp dữ liệu"
   ]
  },
  {
   "cell_type": "code",
   "execution_count": 27,
   "metadata": {},
   "outputs": [
    {
     "name": "stdout",
     "output_type": "stream",
     "text": [
      "['Street', 'Utilities', 'Condition2', 'PoolArea', 'PoolQC', 'haspool']\n"
     ]
    }
   ],
   "source": [
    "overfit = []\n",
    "for i in data.columns:\n",
    "    counts = data[i].value_counts()\n",
    "    zeros = counts.iloc[0]\n",
    "    if zeros / len(data) * 100 > 99:\n",
    "        overfit.append(i)\n",
    "overfit = list(overfit)\n",
    "print(overfit)\n",
    "data = data.drop(overfit, axis=1)"
   ]
  },
  {
   "cell_type": "markdown",
   "metadata": {},
   "source": [
    "#### Label encoding các trường dữ liệu có tính chất thứ tự "
   ]
  },
  {
   "cell_type": "code",
   "execution_count": 28,
   "metadata": {},
   "outputs": [],
   "source": [
    "def clean_LotShape(x):\n",
    "    if x == 'Reg':\n",
    "        return 4\n",
    "    elif x == 'IR1' :\n",
    "        return 3\n",
    "    elif x == 'IR2' :\n",
    "        return 2\n",
    "    else :\n",
    "        return 1\n",
    "data['LotShape'] = data['LotShape'].apply(clean_LotShape)"
   ]
  },
  {
   "cell_type": "code",
   "execution_count": 29,
   "metadata": {},
   "outputs": [],
   "source": [
    "def clean_ExterCond(x):\n",
    "    if x == 'Ex':\n",
    "        return 5\n",
    "    elif x == 'Gd' :\n",
    "        return 4\n",
    "    elif x == 'TA' :\n",
    "        return 3\n",
    "    elif x == 'Fa' :\n",
    "        return 2\n",
    "    elif x == 'Po' :\n",
    "        return 1\n",
    "    else:\n",
    "        return 0\n",
    "data['ExterCond'] = data['ExterCond'].apply(clean_ExterCond)"
   ]
  },
  {
   "cell_type": "code",
   "execution_count": 30,
   "metadata": {},
   "outputs": [],
   "source": [
    "def clean_ExterQual(x):\n",
    "    if x == 'Ex':\n",
    "        return 5\n",
    "    elif x == 'Gd' :\n",
    "        return 4\n",
    "    elif x == 'TA' :\n",
    "        return 3\n",
    "    elif x == 'Fa' :\n",
    "        return 2\n",
    "    elif x == 'Po' :\n",
    "        return 1\n",
    "    else:\n",
    "        return 0\n",
    "\n",
    "data['ExterQual'] = data['ExterQual'].apply(clean_ExterQual)\n"
   ]
  },
  {
   "cell_type": "code",
   "execution_count": 31,
   "metadata": {},
   "outputs": [],
   "source": [
    "def clean_BsmtQual(x):\n",
    "    if x == 'Ex':\n",
    "        return 5\n",
    "    elif x == 'Gd' :\n",
    "        return 4\n",
    "    elif x == 'TA' :\n",
    "        return 3\n",
    "    elif x == 'Fa' :\n",
    "        return 2\n",
    "    elif x == 'Po' :\n",
    "        return 1\n",
    "    else:\n",
    "        return 0\n",
    "data['BsmtQual'] = data['BsmtQual'].apply(clean_BsmtQual)\n"
   ]
  },
  {
   "cell_type": "code",
   "execution_count": 32,
   "metadata": {},
   "outputs": [],
   "source": [
    "def clean_BsmtCond(x):\n",
    "    if x == 'Ex':\n",
    "        return 5\n",
    "    elif x == 'Gd' :\n",
    "        return 4\n",
    "    elif x == 'TA' :\n",
    "        return 3\n",
    "    elif x == 'Fa' :\n",
    "        return 2\n",
    "    elif x == 'Po' :\n",
    "        return 1\n",
    "    else:\n",
    "        return 0\n",
    "data['BsmtCond'] = data['BsmtCond'].apply(clean_BsmtCond)"
   ]
  },
  {
   "cell_type": "code",
   "execution_count": 33,
   "metadata": {},
   "outputs": [],
   "source": [
    "def clean_BsmtFinType1(x):\n",
    "    if x == 'GLQ':\n",
    "        return 6\n",
    "    elif x == 'ALQ' :\n",
    "        return 5\n",
    "    elif x == 'BLQ' :\n",
    "        return 4\n",
    "    elif x == 'Rec':\n",
    "        return 3\n",
    "    elif x == 'LwQ':\n",
    "        return 2\n",
    "    elif x == 'Unf':\n",
    "        return 1\n",
    "    else:\n",
    "        return 0   \n",
    "data['BsmtFinType1'] = data['BsmtFinType1'].apply(clean_BsmtFinType1)"
   ]
  },
  {
   "cell_type": "code",
   "execution_count": 34,
   "metadata": {},
   "outputs": [],
   "source": [
    "def clean_BsmtFinType2(x):\n",
    "    if x == 'GLQ':\n",
    "        return 6\n",
    "    elif x == 'ALQ' :\n",
    "        return 5\n",
    "    elif x == 'BLQ' :\n",
    "        return 4\n",
    "    elif x == 'Rec':\n",
    "        return 3\n",
    "    elif x == 'LwQ':\n",
    "        return 2\n",
    "    elif x == 'Unf':\n",
    "        return 1\n",
    "    else:\n",
    "        return 0\n",
    "    \n",
    "data['BsmtFinType2'] = data['BsmtFinType2'].apply(clean_BsmtFinType2)"
   ]
  },
  {
   "cell_type": "code",
   "execution_count": 35,
   "metadata": {},
   "outputs": [],
   "source": [
    "def clean_HeatingQC(x):\n",
    "    if x == 'Ex':\n",
    "        return 5\n",
    "    elif x == 'Gd' :\n",
    "        return 4\n",
    "    elif x == 'TA' :\n",
    "        return 3\n",
    "    elif x == 'Fa' :\n",
    "        return 2\n",
    "    elif x == 'Po' :\n",
    "        return 1\n",
    "    else:\n",
    "        return 0\n",
    "    \n",
    "data['HeatingQC'] = data['HeatingQC'].apply(clean_HeatingQC)"
   ]
  },
  {
   "cell_type": "markdown",
   "metadata": {},
   "source": [
    "#### Nhóm các dữ liệu có tần suất xuất hiện thấp thành một phân lớp"
   ]
  },
  {
   "cell_type": "code",
   "execution_count": 36,
   "metadata": {},
   "outputs": [],
   "source": [
    "def group_rare_value(df, frequency_threshold=15):\n",
    "    '''\n",
    "    Replace value of categorical columns in df by 'rare_value\n",
    "    if the frequency of the value in df_ref is smaller than frequency_threshold\n",
    "    '''\n",
    "    col_list = list(df.dtypes[df.dtypes == 'object'].index)\n",
    "    for col in col_list:\n",
    "        value_counts = df[col].value_counts()\n",
    "        if(len(value_counts[value_counts < frequency_threshold]) > 0):\n",
    "            rare_values = value_counts[value_counts < frequency_threshold].index\n",
    "            for rare_value in rare_values:\n",
    "                df.loc[df[col] == rare_value, col] = 'rare_value'\n",
    "    return df"
   ]
  },
  {
   "cell_type": "code",
   "execution_count": 37,
   "metadata": {},
   "outputs": [],
   "source": [
    "data = group_rare_value(data, frequency_threshold = 15)"
   ]
  },
  {
   "cell_type": "code",
   "execution_count": 38,
   "metadata": {},
   "outputs": [
    {
     "data": {
      "text/plain": [
       "86"
      ]
     },
     "execution_count": 38,
     "metadata": {},
     "output_type": "execute_result"
    }
   ],
   "source": [
    "data.shape[1]"
   ]
  },
  {
   "cell_type": "markdown",
   "metadata": {},
   "source": [
    "#### One-hot-encoding các trường dữ liệu còn lại\n",
    "\n",
    "![onehot](https://i.imgur.com/TW5m0aJ.png)"
   ]
  },
  {
   "cell_type": "code",
   "execution_count": 39,
   "metadata": {},
   "outputs": [
    {
     "name": "stdout",
     "output_type": "stream",
     "text": [
      "(2917, 235)\n"
     ]
    }
   ],
   "source": [
    "data = pd.get_dummies(data)\n",
    "print(data.shape)"
   ]
  },
  {
   "cell_type": "markdown",
   "metadata": {},
   "source": [
    "### Sử dụng các thuật toán lightgbm cùng các tham số như tuần 1. "
   ]
  },
  {
   "cell_type": "markdown",
   "metadata": {},
   "source": [
    "#### log1p giá trị trường target"
   ]
  },
  {
   "cell_type": "code",
   "execution_count": 40,
   "metadata": {},
   "outputs": [],
   "source": [
    "target = np.log1p(train['SalePrice'].values)"
   ]
  },
  {
   "cell_type": "markdown",
   "metadata": {},
   "source": [
    "#### Chia lại tập train và test sau khi xử lý toàn bộ dữ liệu "
   ]
  },
  {
   "cell_type": "code",
   "execution_count": 41,
   "metadata": {},
   "outputs": [],
   "source": [
    "train_set = data[:ntrain]\n",
    "test_set = data[ntrain:]"
   ]
  },
  {
   "cell_type": "markdown",
   "metadata": {},
   "source": [
    "#### Tham số và hàm số huấn luyện của thuật toán lightgbm trên một fold"
   ]
  },
  {
   "cell_type": "code",
   "execution_count": 42,
   "metadata": {},
   "outputs": [],
   "source": [
    "## parameters of lightgbm \n",
    "params = {\n",
    "        \"objective\" : \"regression\",\n",
    "        \"metric\" : \"rmse\",\n",
    "        \"max_bin\" : 200,\n",
    "        \"num_leaves\" : 8,\n",
    "        \"learning_rate\" : 0.01,\n",
    "        \"bagging_fraction\" : 0.75,\n",
    "        \"bagging_freq\" : 5,\n",
    "        \"bagging_seed\" : 7,\n",
    "        \"feature_fraction\" :0.5,\n",
    "        \"feature_fraction_seed\": 7,       \n",
    "        \"verbosity\" : -1 } \n",
    "def single_fold_lgb(train_X, train_y, valid_X, valid_y, params):    \n",
    "    lgtrain = lgb.Dataset(train_X, label=train_y)\n",
    "    lgval = lgb.Dataset(valid_X, label=valid_y)\n",
    "    evals_result = {}\n",
    "    model = lgb.train(params, lgtrain, 2000, valid_sets=[lgval], early_stopping_rounds=100, verbose_eval=200, evals_result=evals_result)\n",
    "    return model"
   ]
  },
  {
   "cell_type": "code",
   "execution_count": 43,
   "metadata": {},
   "outputs": [
    {
     "name": "stdout",
     "output_type": "stream",
     "text": [
      "Training until validation scores don't improve for 100 rounds\n",
      "[200]\tvalid_0's rmse: 0.155381\n",
      "[400]\tvalid_0's rmse: 0.124352\n",
      "[600]\tvalid_0's rmse: 0.119188\n",
      "[800]\tvalid_0's rmse: 0.117491\n",
      "[1000]\tvalid_0's rmse: 0.116552\n",
      "[1200]\tvalid_0's rmse: 0.116087\n",
      "[1400]\tvalid_0's rmse: 0.115781\n",
      "Early stopping, best iteration is:\n",
      "[1337]\tvalid_0's rmse: 0.115651\n",
      "Training until validation scores don't improve for 100 rounds\n",
      "[200]\tvalid_0's rmse: 0.170159\n",
      "[400]\tvalid_0's rmse: 0.134041\n",
      "[600]\tvalid_0's rmse: 0.124464\n",
      "[800]\tvalid_0's rmse: 0.121412\n",
      "[1000]\tvalid_0's rmse: 0.120399\n",
      "[1200]\tvalid_0's rmse: 0.119827\n",
      "Early stopping, best iteration is:\n",
      "[1172]\tvalid_0's rmse: 0.119753\n",
      "Training until validation scores don't improve for 100 rounds\n",
      "[200]\tvalid_0's rmse: 0.162125\n",
      "[400]\tvalid_0's rmse: 0.128809\n",
      "[600]\tvalid_0's rmse: 0.121635\n",
      "[800]\tvalid_0's rmse: 0.119814\n",
      "[1000]\tvalid_0's rmse: 0.118638\n",
      "[1200]\tvalid_0's rmse: 0.118273\n",
      "Early stopping, best iteration is:\n",
      "[1140]\tvalid_0's rmse: 0.118193\n",
      "Training until validation scores don't improve for 100 rounds\n",
      "[200]\tvalid_0's rmse: 0.160851\n",
      "[400]\tvalid_0's rmse: 0.128823\n",
      "[600]\tvalid_0's rmse: 0.122036\n",
      "[800]\tvalid_0's rmse: 0.120513\n",
      "[1000]\tvalid_0's rmse: 0.120122\n",
      "Early stopping, best iteration is:\n",
      "[1007]\tvalid_0's rmse: 0.120061\n",
      "Training until validation scores don't improve for 100 rounds\n",
      "[200]\tvalid_0's rmse: 0.175689\n",
      "[400]\tvalid_0's rmse: 0.13665\n",
      "[600]\tvalid_0's rmse: 0.125362\n",
      "[800]\tvalid_0's rmse: 0.122519\n",
      "[1000]\tvalid_0's rmse: 0.120649\n",
      "[1200]\tvalid_0's rmse: 0.119658\n",
      "[1400]\tvalid_0's rmse: 0.119087\n",
      "Early stopping, best iteration is:\n",
      "[1444]\tvalid_0's rmse: 0.118862\n",
      "Full Out-Of-Fold score :  0.118513\n"
     ]
    }
   ],
   "source": [
    "kf = KFold(n_splits=5, shuffle = True, random_state = 2020)\n",
    "def kfold_model_lgb(params):\n",
    "    oof_preds = np.zeros(train_set.shape[0]) ## out of fold prediction \n",
    "    for train_index, valid_index in kf.split(train_set):\n",
    "        X_train , X_valid  = train_set.loc[train_index,:], train_set.loc[valid_index,:]\n",
    "        y_train, y_valid = target[train_index], target[valid_index]\n",
    "        model = single_fold_lgb(X_train, y_train, X_valid, y_valid, params) ## get testing prediction and model  \n",
    "        oof_preds[valid_index] = model.predict(train_set.loc[valid_index,:],num_iteration=model.best_iteration)  # prediction of out of fold\n",
    "    print('Full Out-Of-Fold score : %9.6f'% (mean_squared_error(target, oof_preds) ** .5))\n",
    "    return oof_preds\n",
    "\n",
    "oof_preds = kfold_model_lgb(params)"
   ]
  },
  {
   "cell_type": "markdown",
   "metadata": {},
   "source": [
    "### So sánh với kết quả tuần trước, kết quả đạt tốt hơn với những feature mới, đạt 0.1185"
   ]
  },
  {
   "cell_type": "markdown",
   "metadata": {},
   "source": [
    "# Các thuật toán thường được dùng khi xây dựng mô hình regression \n",
    "+ [Linear regression](https://www.analyticsvidhya.com/blog/2017/06/a-comprehensive-guide-for-linear-ridge-and-lasso-regression/)\n",
    "+ [Lasso Regression](https://www.analyticsvidhya.com/blog/2017/06/a-comprehensive-guide-for-linear-ridge-and-lasso-regression/)\n",
    "+ [Ridge Regression](https://www.analyticsvidhya.com/blog/2017/06/a-comprehensive-guide-for-linear-ridge-and-lasso-regression/)\n",
    "+ [Elastic Net Regression](https://www.analyticsvidhya.com/blog/2017/06/a-comprehensive-guide-for-linear-ridge-and-lasso-regression/)\n",
    "+ [Gradient Boosting regression](https://scikit-learn.org/stable/auto_examples/ensemble/plot_gradient_boosting_regression.html)\n",
    "+ [CatBoostRegressor](https://catboost.ai/docs/concepts/python-reference_catboostregressor.html)\n",
    "+ [Xgboost](https://xgboost.readthedocs.io/en/latest/parameter.html)\n",
    "+ [Lightgbm](https://lightgbm.readthedocs.io/en/latest/pythonapi/lightgbm.LGBMRegressor.html)"
   ]
  },
  {
   "cell_type": "markdown",
   "metadata": {},
   "source": [
    "# <a id='2*'>2*. Lightgbm và Bayesian Optimization  </a>"
   ]
  },
  {
   "cell_type": "markdown",
   "metadata": {},
   "source": [
    "## <a id='2.1*'>2.1*. Giới thiệu tổng quan về Lightgbm  </a>\n",
    "  "
   ]
  },
  {
   "cell_type": "markdown",
   "metadata": {},
   "source": [
    "### Bagging and Boosting "
   ]
  },
  {
   "cell_type": "markdown",
   "metadata": {},
   "source": [
    "<img src=\"https://previews.dropbox.com/p/thumb/AA9u79dvTaurp3eMBELe0iYZxZI5ng60dxq4rKCBo6qGAwTevpimCvZfxN_cy644zZguhU1p6Lph9uaFtgKzYjNR2EPYAGDqrbJ3XrSGu6HDCWQTYLX0TzeqamsdMiKp5PA_3Ek9sS26QUW6XCyt6SH56-7SC4wqpi-YwBah2T0Vu5n-UhVAjK9KRWMMfD-7e-eWLZ568XzT7BWuSAgmX9UfnMbzBJXcpfdfgtILnao6Dk0eI_TXX-F0nTwNMKKqqK_cT5qmRQkBH2_5EoU4XcBI95PNpzuzLEpf3U2kJrqnmnOvJURrtRFG4Z9TwNxO-xJctAUxgpkXJV6oOx184Pk67_rlyF7I7zRx_DYuhFELVA/p.png?fv_content=true&size_mode=5\" alt=\"drawing\" width=\"500\"/>\n"
   ]
  },
  {
   "cell_type": "markdown",
   "metadata": {},
   "source": [
    "+ **Bagging** và **Boosting** đều là thuật toán học giám sát dựa vào nguyên lý tập hợp (ensembling): Xây dựng thuật toán cuối cùng ( gọi là strong learner) dựa vào tổng hợp các thuạt toán nhỏ hơn ( gọi là weak learners)\n",
    "\n",
    "------\n",
    "\n",
    "+ **Bagging**: các thuật toán con được xây dưng một cách song song không phụ thuộc vào nhau. Dữ liệu huấn luyện của các mô hình con là dữ liệu bất kì trong dữ liệu huấn luyện gốc (lấy một cách bất kì theo cách lấy vật trong túi - **bagging**) \n",
    "\n",
    "------\n",
    "\n",
    "+ **Boosting**: Xây dựng thuật toán mạnh dựa vào chuỗi (sequence) các thuật toán yếu và có cập nhật trọng số (update weight) vào dữ liệu. Mỗi thuật toán con có liên kết với thuật toán trước và sau đó, thúc đẩy độ chính xác hơn (**boosting**)."
   ]
  },
  {
   "cell_type": "markdown",
   "metadata": {},
   "source": [
    "<img src=\"https://previews.dropbox.com/p/thumb/AA9ghBXHb-543MtCfiA7Kc_z5kTf-4PiTuSOgvUJoWOLSaKZ8J9prNNQmJnqNugqIKBkSiqZRNo7ahcu2q8GVu33tSIq1waBuuSDG08KcdMNXf5kY1Yrfh6z-M0otgPXEi0iHbwk9GvtbvPdZVA4VTaNvnLXuN1x0sukbI9a1IqfBVcxp9etogD4cqGCeGsmFYrBA5dY36upEA_3iva1KuYqZjmtgMg7bYEbNs-yToZ71nGffShS_ADj_16ibVt7Dpx_Rp8SNt6FzNaz_yHr2aKwZHwVRehPePZLiXMEnySfLtjjVDZ5edWkN_-CqBxwSfXHXjbbjNxeeHShqniUZMGinB9MKctNU41aNhzonrDrKg/p.png?fv_content=true&size_mode=5\" alt=\"drawing\" width=\"600\"/>\n",
    "\n",
    "**Hình mô tả nguyên lý thuật toán Bagging** - các tập dữ liệu được lấy một cách độc lập và mô hình con được huấn luyện độc lập với nhau"
   ]
  },
  {
   "cell_type": "markdown",
   "metadata": {},
   "source": [
    "<img src=\"https://previews.dropbox.com/p/thumb/AA9xNCAVSRT8evVqPWijJOLShd2BK7TxP9Q7ySd5uXBgjRQs1c_QMGkIzXvRkGbTrleDj8QhYU8watCUplim_zAbQPvawwpIByugp8z03l8JBKd2AaUZ-ba5aW65wcVwVtOT3lfJuHNGnvXJyixgOscAizJfFY5ShS8jIxo9Uia-owG2O5Wy9Jape2HjF-OdfKSlwNQiCvnIELF-_NY45rLOsVtS8EFoqq4PNS7piLFXlQGaPgvxzPTAwCsWlUpJKfTSdOTr_24WLV_oUfUrFFgYWsAyhE6nvIF0MLUi30HspAWJSetP0yXElrTkTF3f8yA5tNyxo04dMMbMuHXTpvL0ScbXoz1JCsu1S2uggqSdwQ/p.png?fv_content=true&size_mode=5\" alt=\"drawing\" width=\"600\"/>\n",
    "\n",
    "**Hình mô tả nguyên lý thuật toán Boosting** -Các mô hình con có mối quan hệ sequence với nhau, dữ liệu được update trọng số sau mỗi lần huấn luyện tập con "
   ]
  },
  {
   "cell_type": "markdown",
   "metadata": {},
   "source": [
    "<img src=\"https://previews.dropbox.com/p/thumb/AA9R_1AEm4uotg_QVJXWPa7rsJokf2xvPk2MSZn9dcQUIRjaOrmslYi3SFXQ3gyrGTUwIhpixgkID5HlZZJl2kFp4AWA-v-S39sX-Z82ygHKRg1Cm_X5J5Bu3WWDHuwv73HWg6IxNjOeX_ZUbKxIF0W125m4OMEzgR96k-2RDjXbU1YkfQ3zuKoPnFWJeWfRkNHtQdpBegwqe6sQre6b_U2b9xnErgvQXgW80uqesmbgKK0QkLJXjLg1ozi30o317aeBOq5L5uQqvDw6Jcg9im5N8I7Cpl3XKJe4K6dKJbn1JcIYJ6_loatoFLJgXIvpb6SwnXae7rsUbiEh6OVaieoRBTyaxaGnHDFKV0xK670u-A/p.png?fv_content=true&size_mode=5\" alt=\"drawing\" width=\"500\"/>\n",
    "\n",
    "**Ví dụ điển hình nguyên lý bagging: Random forest** là thuật toán dùng nguyên lý  bagging và sử dụng decision tree ở mỗi thuật toán con (weak learners)"
   ]
  },
  {
   "cell_type": "markdown",
   "metadata": {},
   "source": [
    "<img src=\"https://previews.dropbox.com/p/thumb/AA-bkONdbZAYj7SQLpYEj83_rQ0NA32_Y1ip_nMnzqMa8Y3Es-CgG4Ixhk5edqOBhwfdxTQZpWwHfwiGfR4pQA9whGm2NnMdvuHbkhKl25qrBSXIYUg4criXWRXhXM6ik5b2n_8fzoF_D--4XAxoZfIDnk8qD0H6eGV-ILFxNXRb1U1vGBvfiZe6k7CziO-baXpUpXP9hRiScw3batblK63NvKSOgMru_F-BO6tp0IA4wFLRfM3g9f4reH2omtNsfRZMd9FBCm4Uy2Ga0I4t9MaZeCMeNCa0yOKf9MvWXhItAQCqlcawyNTSfj9TUYy6gbsCAmylQjVrAXPEns_Gg5y1k0SAX0ywJ-pltkWdeWVXVA/p.png?fv_content=true&size_mode=5\" alt=\"drawing\" width=\"600\"/>\n",
    "\n",
    "**Ví dụ điển hình nguyên lý boosting : Adaboost** (Adaptive + Boosting) - là thuật toán dùng nguyên lý boosting và sử dụng weak learner là decision tree."
   ]
  },
  {
   "cell_type": "markdown",
   "metadata": {},
   "source": [
    "##  Tổng quan Adaboost and Gradient Boosting"
   ]
  },
  {
   "cell_type": "markdown",
   "metadata": {},
   "source": [
    "+ Giống nhau: Đều dựa vào nguyên lý Boosting \n",
    "+ Khác nhau : Cách tạo ra thuật toán con (weak learners) trong các bước lặp "
   ]
  },
  {
   "cell_type": "markdown",
   "metadata": {},
   "source": [
    "### Adaboost = Adaptive + Boosting                        \n"
   ]
  },
  {
   "cell_type": "markdown",
   "metadata": {},
   "source": [
    "<img src=\"https://previews.dropbox.com/p/thumb/AA-bkONdbZAYj7SQLpYEj83_rQ0NA32_Y1ip_nMnzqMa8Y3Es-CgG4Ixhk5edqOBhwfdxTQZpWwHfwiGfR4pQA9whGm2NnMdvuHbkhKl25qrBSXIYUg4criXWRXhXM6ik5b2n_8fzoF_D--4XAxoZfIDnk8qD0H6eGV-ILFxNXRb1U1vGBvfiZe6k7CziO-baXpUpXP9hRiScw3batblK63NvKSOgMru_F-BO6tp0IA4wFLRfM3g9f4reH2omtNsfRZMd9FBCm4Uy2Ga0I4t9MaZeCMeNCa0yOKf9MvWXhItAQCqlcawyNTSfj9TUYy6gbsCAmylQjVrAXPEns_Gg5y1k0SAX0ywJ-pltkWdeWVXVA/p.png?fv_content=true&size_mode=5\" alt=\"drawing\" width=\"600\"/>\n",
    "\n"
   ]
  },
  {
   "cell_type": "markdown",
   "metadata": {},
   "source": [
    "#### Adaboost: Mẫu dữ liệu huấn luyện được thay đổi qua từng bước lặp , tăng trọng số ở mẫu đoán sai, giảm trọng số ở mẫu đoán đúng giúp mô hình con tiếp theo học tốt hơn)"
   ]
  },
  {
   "cell_type": "markdown",
   "metadata": {},
   "source": [
    "<img src=\"https://previews.dropbox.com/p/thumb/AA8-vvmsp6_xCh5-WRLbxqx12XnJvY5ge_-p7fZr63isuDLDgiDUsIc0cXi9u9Ok6SY5st8X9uwyV-llbcTbIm4s1WbrHUfDhobSe8H4X0VF0_0TtgXTnueS3X9qINzoZSOP0XFWsWAziEQDSRXEqI3WdS4lLw7vP2FauPVqc5ztcmp5SYGRz6kdZ8WYiHaOjk72U7UzSFjmKgSzc7EzN2_itdLnKGw3E3elk5xD2KUCKCz_xu6XlYsQB02uvvqFDLe7A79cO4Pi1vjObcfSJD3MPrU9QtnK2XhU0fcKYJC5Vnr_jHuYkpA6Swj68Fus6z8wOqWMOFVPK_MWbHpIymu1DJZHYC5hx5QxAGGYoLuY6Q/p.png?fv_content=true&size_mode=5\" alt=\"drawing\" width=\"600\"/>\n",
    "\n"
   ]
  },
  {
   "cell_type": "markdown",
   "metadata": {},
   "source": [
    "#### Adaboost: Mô hình huấn luyện cuối cùng được kết hợp từ những weak learners"
   ]
  },
  {
   "cell_type": "markdown",
   "metadata": {},
   "source": [
    "### Gradient Boosting = Gradient Descent + Boosting "
   ]
  },
  {
   "cell_type": "markdown",
   "metadata": {},
   "source": [
    "Hình mô tả nguyên lý hoạt động của Gradient Boosting \n",
    "\n",
    "<img src=\"https://previews.dropbox.com/p/thumb/AA-NXdkx6SBpUUMMihd8vBhW6K7dz7eDw_MffswUDh4MAFnorMIBq71p8sv9FZf88Fy64IvCmEld8aaGwM6aouwWpHdg1QjvIwsIQqbQLL4mjJvZzA6ZRjRXsA66S4gUzCCI3vbfUPws9JxSrI7xF1wMdvGepZTE_6qyeqbtPdOVqLH2kDO6fjDnBCqTORZ_JZRbiH3hz2KpmOtD2VghaCqBQIFUCmF008GNhjL9Lf1ZifnaKaJZktg2ut3Eqqdt5s0zRC39YpdFZsfdYceSx2K8fYQeYxsjZbQYeQilLpJulH8urp5PFv6s_ItTWsXz18zUD2WXyWkiooBLgQ-hGLlgVg27V6ffXJykcH4qPyDupg/p.png?fv_content=true&size_mode=5\" alt=\"drawing\" width=\"600\"/>"
   ]
  },
  {
   "cell_type": "markdown",
   "metadata": {},
   "source": [
    "#### Gradient Boosting : Không thay đổi mẫu huấn luyện (không có quá trình update trọng số  của mẫu dữ liệu huấn luyện). \n",
    "#### Định nghĩa hàm loss (để tính toán sai lệch), tại mỗi bước lặp sử dụng gradient descent để update mô hình weak learner. "
   ]
  },
  {
   "cell_type": "markdown",
   "metadata": {},
   "source": [
    "<img src=\"https://previews.dropbox.com/p/thumb/AA-mihsb_4AtI6OJOH4EM0v88qsmZyT3Rjm5UuC6qkCSIriVVpTiwdUgWks8ymCHHH0j3ORqFUKeMBGyAw-N_a_mKteCiNo8naU8iGjtHURdPXNeqNwmG5Rgt9TuUWrIqruC17w93INp9QlQ2QO8KmWBDHvCbezqUB6kB5cuyT6ymT7-sFb87IM2Z-Hs3cSVpep2_sbXM5mFddx4Z7pOuI6l46G9RTVkmNqDCaB0HLiJJ73Xuy8l5Q5HpflDLr8dD6Pv1O-jHr-91PDiEsgQyILwMe6Xx4chuhgIAzrLRpEBfFgwpXiGG3NLjwZnPYrPkvwperC8zVulioSaE01ffbt1Mpk1yonN-ph3TlDxDexfsQ/p.png?fv_content=true&size_mode=5\" alt=\"drawing\" width=\"400\"/>"
   ]
  },
  {
   "cell_type": "markdown",
   "metadata": {},
   "source": [
    "## Lightgbm - Xgboost "
   ]
  },
  {
   "cell_type": "markdown",
   "metadata": {},
   "source": [
    "+ Đều là các thuật toán xây dựng trên nền tảng của Gradient Boosting.\n",
    "\n",
    "---------\n",
    "\n",
    "+ Khác biệt lớn nhất với thuật toán Gradient Boosting thông thường: Ở mỗi bước lặp, khi tối ưu hàm thất thoát, sử dụng thuật toán tối ưu bậc hai, e.g.: Newton, quasi-Newton (các thuật toán khác thường bậc 1) dẫn tới kết quả tối ưu tốt hơn. \n",
    "\n",
    "---------\n",
    "+ Điểm khác nhau của  Lightgbm - Xgboost  ở cách chia lá ở thuật toán weak learner: Thuật toán cây của Lightgbm phát triển cây theo chiều dọc trong khi thuật toán Xgboost phát triển cây theo chiều ngang\n",
    "\n"
   ]
  },
  {
   "cell_type": "markdown",
   "metadata": {},
   "source": [
    "\n",
    "![](./imgs/xgboost-lightgbm.jpg)\n"
   ]
  },
  {
   "cell_type": "markdown",
   "metadata": {},
   "source": [
    "## Các tham số quan trọng của Lightgbm"
   ]
  },
  {
   "cell_type": "markdown",
   "metadata": {},
   "source": [
    "\n",
    "+ num_leaves: số lượng lá cần sử dụng trong thuật toán. num_leaves lớn sẽ cải thiện độ chính xác, nhưng num_leaves lớn sẽ gây nên hiện tượng overfitting\n",
    "+ min_child_samples: Số lượng mẫu (dữ liệu) tối thiểu để nhóm thành một lá. Tham số có thể hỗ trợ rất nhiều việc chống overfitting: min_child_samples lớn trên mỗi lá sẽ làm giảm hiện tượng overfitting (nhưng đồng thời có thể dẫn đến underfitting nếu số min_child_samples quá lớn).\n",
    "+ max_depth: Tham số này nhằm kiểm soát độ sâu của lá. Tham số max_depth thấp tương ứng với cây không bị chia quá phức tạp, giúp cho mô hình chống overfitting"
   ]
  },
  {
   "cell_type": "markdown",
   "metadata": {},
   "source": [
    "### Tham số thay đổi để tăng độ chính xác (theo documentation của [lightgbm](https://lightgbm.readthedocs.io/en/latest/Parameters-Tuning.html) ) : \n",
    "+ max_bin: Sử dụng  max_bin lớn có thể tăng độ chính xác (nhưng tốc độ huấn luyện có thể chậm hơn)\n",
    "+ learning_rate: Sử dụng learning_rate nhỏ cùng số bước lặp (num_iterations) lớn có thể tăng độ chính xác\n",
    "+ Sử dụng num_leaves lớn có thể tăng độ chính xác (nhưng cũng có thể gây nên overfitting)\n"
   ]
  },
  {
   "cell_type": "markdown",
   "metadata": {},
   "source": [
    "### Một số phương án hiệu chỉnh tham số để  tránh hiện tượng overfitting \n",
    "+ Sử dụng max_bin nhỏ \n",
    "+ Sử dụng num_leaves nhỏ \n",
    "+ bagging_fraction: cho phép kiểm soát việc lấy mẫu con dữ liệu khi huấn luyện mô hình. Ví dụ bagging_fraction = 0.5 nghĩa là mỗi bước lặp sẽ lấy 50% dữ liệu để tiến hành chia lá. bagging_fraction nhỏ có thể giúp tránh được overfitting.\n",
    "+ feature_fraction: kiểm soát việc lấy mẫu con ở các trường dữ liệu khi tiến hành huấn luyện. feature_fraction nhỏ hơn có thể giúp mô hình giảm overfitting.\n",
    "+ Sử dụng tham số lambda_l1, lambda_l2 và min_gain_to_split để chính quy hoá (regularization).\n",
    "+ Sử dụng max_depth để kiểm soát độ sâu của nhánh khi chia lá."
   ]
  },
  {
   "cell_type": "code",
   "execution_count": 44,
   "metadata": {},
   "outputs": [],
   "source": [
    "## the fucntion for hidden print\n",
    "class HiddenPrints:\n",
    "    '''To hide all the printouts'''\n",
    "\n",
    "    def __enter__(self):\n",
    "        self._original_stdout = sys.stdout\n",
    "        sys.stdout = open(os.devnull, 'w')\n",
    "\n",
    "    def __exit__(self, exc_type, exc_val, exc_tb):\n",
    "        sys.stdout.close()\n",
    "        sys.stdout = self._original_stdout"
   ]
  },
  {
   "cell_type": "markdown",
   "metadata": {},
   "source": [
    "## <a id='2.2*'>2.2*. Giới thiệu tổng quan về tối ưu Bayes ([Bayesian Optimization](https://thetalog.com/thetaflow/bayesian-optimization-visualizer/?fbclid=IwAR1soc93sJ-b5nAC5dxxJ95Im3YrA3K3SXTNIoDPzZ3SBag0-jyj4zSHl88))  </a>"
   ]
  },
  {
   "cell_type": "markdown",
   "metadata": {},
   "source": [
    "#### Tối ưu hóa Bayes là một chiến lược thiết kế tuần tự để tối ưu hóa toàn cục của các hàm số mà chúng ta không hiểu rõ tính chất (black-box-function)."
   ]
  },
  {
   "cell_type": "markdown",
   "metadata": {},
   "source": [
    "Sử dụng gói thư viện BayesianOptimization"
   ]
  },
  {
   "cell_type": "code",
   "execution_count": 45,
   "metadata": {},
   "outputs": [],
   "source": [
    "from bayes_opt import BayesianOptimization"
   ]
  },
  {
   "cell_type": "markdown",
   "metadata": {},
   "source": [
    "### Ví dụ cơ bản gói thư viện BayesianOptimization"
   ]
  },
  {
   "cell_type": "markdown",
   "metadata": {},
   "source": [
    "Giả sử chúng ta có black box function như ở dưới. \n",
    "\n",
    "$$ f(x,y) = -x^2 -(y-1)^2 +1 $$\n",
    "\n",
    "Ở đây chúng ta hiểu rõ tính chất hàm \\(f\\). Nhưng ở ví dụ này chúng ta giả sử không biết rõ về hàm \\(f\\) và chúng ta muốn tìm \n",
    "\n",
    "$$Max_{x,y} f(x,y)$$\n",
    "\n",
    " với $x\\in (2,4)$, và $y \\in (-3,3)$"
   ]
  },
  {
   "cell_type": "markdown",
   "metadata": {},
   "source": [
    "Chúng ta định nghĩa black box function và grid_search"
   ]
  },
  {
   "cell_type": "code",
   "execution_count": 46,
   "metadata": {},
   "outputs": [],
   "source": [
    "def black_box_function(x, y):\n",
    "    \"\"\"Function with unknown internals we wish to maximize.\n",
    "\n",
    "    This is just serving as an example, for all intents and\n",
    "    purposes think of the internals of this function, i.e.: the process\n",
    "    which generates its output values, as unknown.\n",
    "    \"\"\"\n",
    "    return -x ** 2 - (y - 1) ** 2 + 1"
   ]
  },
  {
   "cell_type": "code",
   "execution_count": 47,
   "metadata": {},
   "outputs": [],
   "source": [
    "grid_search = {'x': (2, 4), 'y': (-3, 3)}"
   ]
  },
  {
   "cell_type": "markdown",
   "metadata": {},
   "source": [
    "### Sử dụng tối ưu Bayes nhờ thư viện BayesianOptimization. Hàm BayesianOptimization gồm 2 tham số quan trọng: \n",
    "   +  f: Hàm black-box\n",
    "   +  pbounds : Không gian cần tìm kiếm "
   ]
  },
  {
   "cell_type": "code",
   "execution_count": 48,
   "metadata": {},
   "outputs": [],
   "source": [
    "optimizer = BayesianOptimization(\n",
    "    f=black_box_function,\n",
    "    pbounds=grid_search,\n",
    "    random_state=1,\n",
    ")"
   ]
  },
  {
   "cell_type": "markdown",
   "metadata": {},
   "source": [
    "#### Để tìm giá trị max của hàm black-box trong khảng giá trị $(2,4)\\times (-3,3)$ chúng ta  sử dụng lệnh "
   ]
  },
  {
   "cell_type": "code",
   "execution_count": 49,
   "metadata": {},
   "outputs": [
    {
     "name": "stdout",
     "output_type": "stream",
     "text": [
      "|   iter    |  target   |     x     |     y     |\n",
      "-------------------------------------------------\n",
      "| \u001b[0m 1       \u001b[0m | \u001b[0m-7.135   \u001b[0m | \u001b[0m 2.834   \u001b[0m | \u001b[0m 1.322   \u001b[0m |\n",
      "| \u001b[0m 2       \u001b[0m | \u001b[0m-7.78    \u001b[0m | \u001b[0m 2.0     \u001b[0m | \u001b[0m-1.186   \u001b[0m |\n",
      "| \u001b[0m 3       \u001b[0m | \u001b[0m-16.13   \u001b[0m | \u001b[0m 2.294   \u001b[0m | \u001b[0m-2.446   \u001b[0m |\n",
      "| \u001b[0m 4       \u001b[0m | \u001b[0m-8.341   \u001b[0m | \u001b[0m 2.373   \u001b[0m | \u001b[0m-0.9266  \u001b[0m |\n",
      "| \u001b[0m 5       \u001b[0m | \u001b[0m-7.392   \u001b[0m | \u001b[0m 2.794   \u001b[0m | \u001b[0m 0.2329  \u001b[0m |\n",
      "| \u001b[0m 6       \u001b[0m | \u001b[0m-15.02   \u001b[0m | \u001b[0m 4.0     \u001b[0m | \u001b[0m 0.8624  \u001b[0m |\n",
      "| \u001b[95m 7       \u001b[0m | \u001b[95m-3.799   \u001b[0m | \u001b[95m 2.184   \u001b[0m | \u001b[95m 0.83    \u001b[0m |\n",
      "| \u001b[0m 8       \u001b[0m | \u001b[0m-5.343   \u001b[0m | \u001b[0m 2.0     \u001b[0m | \u001b[0m 2.531   \u001b[0m |\n",
      "| \u001b[0m 9       \u001b[0m | \u001b[0m-14.29   \u001b[0m | \u001b[0m 3.36    \u001b[0m | \u001b[0m 3.0     \u001b[0m |\n",
      "| \u001b[95m 10      \u001b[0m | \u001b[95m-3.363   \u001b[0m | \u001b[95m 2.0     \u001b[0m | \u001b[95m 1.603   \u001b[0m |\n",
      "=================================================\n"
     ]
    }
   ],
   "source": [
    "optimizer.maximize(init_points=5,n_iter=5)"
   ]
  },
  {
   "cell_type": "markdown",
   "metadata": {},
   "source": [
    "#### Giá trị tốt nhất sử dụng tối ưu bayes đạt: $-3.363$ khi $x=2$, và $y = 1.6$"
   ]
  },
  {
   "cell_type": "markdown",
   "metadata": {},
   "source": [
    "## <a id='2.2*'>2.2*. Áp dụng tối ưu bayes để tìm kiếm tham số tối ưu cho thuật toán lightgbm  </a>"
   ]
  },
  {
   "cell_type": "markdown",
   "metadata": {},
   "source": [
    "#### Ở đây chúng ta sẽ áp dụng \"giá trị tốt nhất trên cross-validation của thuật toán lightgbm\" như hàm  black-box \n",
    "#### Grid_seach là  không gian các tham số muốn tối ưu cho thuật toán lightgbm\n",
    "\n",
    "Cụ thể: \n",
    "+ hàm black-box sẽ là hàm số \"kfold_model_gbm\" ở mục trước \n",
    "+ grid_seach sẽ bao gồm \n",
    "    + 'feature_fraction': (0.1, 0.9),\n",
    "    + 'max_depth': (4, 8),\n",
    "    + 'num_leaves' : (4,16),\n",
    "    + 'max_bin' : (50,200),\n",
    "    + 'learning_rate' : (0.01, 0.1)"
   ]
  },
  {
   "cell_type": "code",
   "execution_count": 50,
   "metadata": {},
   "outputs": [],
   "source": [
    "def bayes_parameter_opt_lgb(train_set, target, init_round=15, opt_round=25 ,output_process=False):\n",
    "    # prepare data\n",
    "    kf = KFold(n_splits=5, shuffle = True, random_state = 2020)\n",
    "    def single_fold_lgb(train_X, train_y, valid_X, valid_y, params): \n",
    "        \"\"\"\n",
    "        args: \n",
    "        + train   : training dataset \n",
    "        + train_y : target of training dataset\n",
    "        + valid   : validation dataset\n",
    "        + valid_y : target of validation dataset\n",
    "        +params   : important parameters of lgb model \n",
    "        output:\n",
    "        model after training with training dataset \n",
    "        \"\"\"\n",
    "        lgtrain = lgb.Dataset(train_X, label=train_y)\n",
    "        lgval = lgb.Dataset(valid_X, label=valid_y)\n",
    "        evals_result = {}\n",
    "        model = lgb.train(params, lgtrain, 2000, valid_sets=[lgval], early_stopping_rounds=100, verbose_eval=200, evals_result=evals_result)\n",
    "        return model\n",
    "    \n",
    "    grid_search =  {'feature_fraction': (0.1, 0.9),\n",
    "                    'max_depth': (4, 8),\n",
    "                    'num_leaves' : (4,16),\n",
    "                    'max_bin' : (50,200),\n",
    "                    'learning_rate' : (0.01, 0.1)}\n",
    "    \n",
    "    def kfold_model(feature_fraction, max_depth, num_leaves, max_bin,learning_rate):\n",
    "        \"\"\"\n",
    "    \n",
    "        args: \n",
    "        + all parameters we want to search for the lightgbm model. Here, we want to tune : \n",
    "        feature_fraction, max_depth, num_leaves, max_bin, learning_rate.\n",
    "        ouput:\n",
    "        The value we want to get maximum when we apply baysian optimization. \n",
    "        Here we use the MNLSE metric, then the output should be -MNLSE of the validation dataset. \n",
    "    \n",
    "        \"\"\"\n",
    "        oof_preds = np.zeros(train_set.shape[0]) ## out of fold prediction \n",
    "        ## define parameters\n",
    "        params = {\n",
    "        \"objective\" : \"regression\",\n",
    "        \"metric\" : \"rmse\",\n",
    "        \"max_bin\" : 100,\n",
    "        \"num_leaves\" : 8,\n",
    "        \"learning_rate\" : 0.01,\n",
    "        \"bagging_fraction\" : 0.75,\n",
    "        \"bagging_freq\" : 5,\n",
    "        \"bagging_seed\" : 7,\n",
    "        \"feature_fraction\" :0.2,\n",
    "        \"feature_fraction_seed\": 7,       \n",
    "        \"verbosity\" : -1 }\n",
    "        # update parameter search \n",
    "        \n",
    "        params['feature_fraction'] = max(min(feature_fraction, 1), 0)\n",
    "        params['max_depth'] = int(round(max_depth))\n",
    "        params['num_leaves'] = int(round(num_leaves))\n",
    "        params['max_bin'] = int(round(max_bin))\n",
    "        params['learning_rate'] = learning_rate\n",
    "        \n",
    "        for train_index, valid_index in kf.split(train_set):\n",
    "            X_train , X_valid  = train_set.loc[train_index,:], train_set.loc[valid_index,:]\n",
    "            y_train, y_valid = target[train_index], target[valid_index]\n",
    "            with HiddenPrints():\n",
    "                model = single_fold_lgb(X_train, y_train, X_valid, y_valid, params) ## get testing prediction and model  \n",
    "            oof_preds[valid_index] = model.predict(train_set.loc[valid_index,:],num_iteration=model.best_iteration)  # prediction of out of fold\n",
    "        score = -(mean_squared_error(target, oof_preds) ** .5)\n",
    "        return score\n",
    "    \n",
    "    optim = BayesianOptimization(kfold_model, grid_search , random_state=0)\n",
    "    # optimize\n",
    "    optim.maximize(init_points=init_round, n_iter=opt_round,acq='ei')\n",
    "    # output optimization process\n",
    "    if output_process == True: optim.points_to_csv(\"./data/bayes_opt_result.csv\")\n",
    "\n",
    "    return optim"
   ]
  },
  {
   "cell_type": "code",
   "execution_count": 51,
   "metadata": {},
   "outputs": [
    {
     "name": "stdout",
     "output_type": "stream",
     "text": [
      "|   iter    |  target   | featur... | learni... |  max_bin  | max_depth | num_le... |\n",
      "-------------------------------------------------------------------------------------\n",
      "| \u001b[0m 1       \u001b[0m | \u001b[0m-0.1203  \u001b[0m | \u001b[0m 0.5391  \u001b[0m | \u001b[0m 0.07437 \u001b[0m | \u001b[0m 140.4   \u001b[0m | \u001b[0m 6.18    \u001b[0m | \u001b[0m 9.084   \u001b[0m |\n",
      "| \u001b[0m 2       \u001b[0m | \u001b[0m-0.1205  \u001b[0m | \u001b[0m 0.6167  \u001b[0m | \u001b[0m 0.04938 \u001b[0m | \u001b[0m 183.8   \u001b[0m | \u001b[0m 7.855   \u001b[0m | \u001b[0m 8.601   \u001b[0m |\n",
      "| \u001b[95m 3       \u001b[0m | \u001b[95m-0.1193  \u001b[0m | \u001b[95m 0.7334  \u001b[0m | \u001b[95m 0.0576  \u001b[0m | \u001b[95m 135.2   \u001b[0m | \u001b[95m 7.702   \u001b[0m | \u001b[95m 4.852   \u001b[0m |\n",
      "| \u001b[95m 4       \u001b[0m | \u001b[95m-0.1183  \u001b[0m | \u001b[95m 0.1697  \u001b[0m | \u001b[95m 0.01182 \u001b[0m | \u001b[95m 174.9   \u001b[0m | \u001b[95m 7.113   \u001b[0m | \u001b[95m 14.44   \u001b[0m |\n",
      "| \u001b[0m 5       \u001b[0m | \u001b[0m-0.1205  \u001b[0m | \u001b[0m 0.8829  \u001b[0m | \u001b[0m 0.08192 \u001b[0m | \u001b[0m 119.2   \u001b[0m | \u001b[0m 7.122   \u001b[0m | \u001b[0m 5.419   \u001b[0m |\n",
      "| \u001b[0m 6       \u001b[0m | \u001b[0m-0.1186  \u001b[0m | \u001b[0m 0.6119  \u001b[0m | \u001b[0m 0.0229  \u001b[0m | \u001b[0m 191.7   \u001b[0m | \u001b[0m 6.087   \u001b[0m | \u001b[0m 8.976   \u001b[0m |\n",
      "| \u001b[0m 7       \u001b[0m | \u001b[0m-0.1193  \u001b[0m | \u001b[0m 0.3116  \u001b[0m | \u001b[0m 0.07968 \u001b[0m | \u001b[0m 118.4   \u001b[0m | \u001b[0m 6.274   \u001b[0m | \u001b[0m 4.225   \u001b[0m |\n",
      "| \u001b[0m 8       \u001b[0m | \u001b[0m-0.1197  \u001b[0m | \u001b[0m 0.5941  \u001b[0m | \u001b[0m 0.06509 \u001b[0m | \u001b[0m 142.5   \u001b[0m | \u001b[0m 7.775   \u001b[0m | \u001b[0m 12.18   \u001b[0m |\n",
      "| \u001b[95m 9       \u001b[0m | \u001b[95m-0.1182  \u001b[0m | \u001b[95m 0.3876  \u001b[0m | \u001b[95m 0.04933 \u001b[0m | \u001b[95m 154.6   \u001b[0m | \u001b[95m 4.241   \u001b[0m | \u001b[95m 12.0    \u001b[0m |\n",
      "| \u001b[0m 10      \u001b[0m | \u001b[0m-0.1197  \u001b[0m | \u001b[0m 0.6365  \u001b[0m | \u001b[0m 0.02893 \u001b[0m | \u001b[0m 69.34   \u001b[0m | \u001b[0m 5.262   \u001b[0m | \u001b[0m 8.365   \u001b[0m |\n",
      "| \u001b[0m 11      \u001b[0m | \u001b[0m-0.119   \u001b[0m | \u001b[0m 0.5562  \u001b[0m | \u001b[0m 0.04947 \u001b[0m | \u001b[0m 198.3   \u001b[0m | \u001b[0m 4.408   \u001b[0m | \u001b[0m 6.507   \u001b[0m |\n",
      "| \u001b[0m 12      \u001b[0m | \u001b[0m-0.1189  \u001b[0m | \u001b[0m 0.229   \u001b[0m | \u001b[0m 0.06878 \u001b[0m | \u001b[0m 87.99   \u001b[0m | \u001b[0m 5.865   \u001b[0m | \u001b[0m 6.933   \u001b[0m |\n",
      "| \u001b[95m 13      \u001b[0m | \u001b[95m-0.1172  \u001b[0m | \u001b[95m 0.2272  \u001b[0m | \u001b[95m 0.01993 \u001b[0m | \u001b[95m 148.4   \u001b[0m | \u001b[95m 4.553   \u001b[0m | \u001b[95m 6.359   \u001b[0m |\n",
      "| \u001b[0m 14      \u001b[0m | \u001b[0m-0.1205  \u001b[0m | \u001b[0m 0.395   \u001b[0m | \u001b[0m 0.08389 \u001b[0m | \u001b[0m 64.57   \u001b[0m | \u001b[0m 7.352   \u001b[0m | \u001b[0m 5.153   \u001b[0m |\n",
      "| \u001b[0m 15      \u001b[0m | \u001b[0m-0.1226  \u001b[0m | \u001b[0m 0.8812  \u001b[0m | \u001b[0m 0.05218 \u001b[0m | \u001b[0m 196.5   \u001b[0m | \u001b[0m 6.419   \u001b[0m | \u001b[0m 12.87   \u001b[0m |\n",
      "| \u001b[0m 16      \u001b[0m | \u001b[0m-0.1195  \u001b[0m | \u001b[0m 0.4463  \u001b[0m | \u001b[0m 0.05003 \u001b[0m | \u001b[0m 51.39   \u001b[0m | \u001b[0m 7.063   \u001b[0m | \u001b[0m 13.16   \u001b[0m |\n",
      "| \u001b[0m 17      \u001b[0m | \u001b[0m-0.1197  \u001b[0m | \u001b[0m 0.6402  \u001b[0m | \u001b[0m 0.0301  \u001b[0m | \u001b[0m 161.7   \u001b[0m | \u001b[0m 5.956   \u001b[0m | \u001b[0m 8.657   \u001b[0m |\n",
      "| \u001b[0m 18      \u001b[0m | \u001b[0m-0.1188  \u001b[0m | \u001b[0m 0.1334  \u001b[0m | \u001b[0m 0.01163 \u001b[0m | \u001b[0m 65.88   \u001b[0m | \u001b[0m 4.089   \u001b[0m | \u001b[0m 4.93    \u001b[0m |\n",
      "| \u001b[0m 19      \u001b[0m | \u001b[0m-0.1197  \u001b[0m | \u001b[0m 0.6918  \u001b[0m | \u001b[0m 0.02413 \u001b[0m | \u001b[0m 186.8   \u001b[0m | \u001b[0m 7.079   \u001b[0m | \u001b[0m 5.013   \u001b[0m |\n",
      "| \u001b[0m 20      \u001b[0m | \u001b[0m-0.12    \u001b[0m | \u001b[0m 0.6055  \u001b[0m | \u001b[0m 0.04228 \u001b[0m | \u001b[0m 95.49   \u001b[0m | \u001b[0m 7.117   \u001b[0m | \u001b[0m 10.9    \u001b[0m |\n",
      "| \u001b[0m 21      \u001b[0m | \u001b[0m-0.1206  \u001b[0m | \u001b[0m 0.7991  \u001b[0m | \u001b[0m 0.04251 \u001b[0m | \u001b[0m 98.71   \u001b[0m | \u001b[0m 6.459   \u001b[0m | \u001b[0m 9.037   \u001b[0m |\n",
      "| \u001b[0m 22      \u001b[0m | \u001b[0m-0.1205  \u001b[0m | \u001b[0m 0.6413  \u001b[0m | \u001b[0m 0.09038 \u001b[0m | \u001b[0m 199.6   \u001b[0m | \u001b[0m 6.36    \u001b[0m | \u001b[0m 6.498   \u001b[0m |\n",
      "| \u001b[0m 23      \u001b[0m | \u001b[0m-0.1196  \u001b[0m | \u001b[0m 0.4364  \u001b[0m | \u001b[0m 0.08441 \u001b[0m | \u001b[0m 174.6   \u001b[0m | \u001b[0m 7.764   \u001b[0m | \u001b[0m 4.539   \u001b[0m |\n",
      "| \u001b[0m 24      \u001b[0m | \u001b[0m-0.122   \u001b[0m | \u001b[0m 0.1045  \u001b[0m | \u001b[0m 0.07444 \u001b[0m | \u001b[0m 121.3   \u001b[0m | \u001b[0m 6.295   \u001b[0m | \u001b[0m 11.56   \u001b[0m |\n",
      "| \u001b[0m 25      \u001b[0m | \u001b[0m-0.1226  \u001b[0m | \u001b[0m 0.5847  \u001b[0m | \u001b[0m 0.09103 \u001b[0m | \u001b[0m 79.44   \u001b[0m | \u001b[0m 6.035   \u001b[0m | \u001b[0m 14.92   \u001b[0m |\n",
      "| \u001b[0m 26      \u001b[0m | \u001b[0m-0.1213  \u001b[0m | \u001b[0m 0.4263  \u001b[0m | \u001b[0m 0.0661  \u001b[0m | \u001b[0m 163.6   \u001b[0m | \u001b[0m 5.326   \u001b[0m | \u001b[0m 15.08   \u001b[0m |\n",
      "| \u001b[0m 27      \u001b[0m | \u001b[0m-0.1194  \u001b[0m | \u001b[0m 0.6634  \u001b[0m | \u001b[0m 0.09611 \u001b[0m | \u001b[0m 135.3   \u001b[0m | \u001b[0m 7.707   \u001b[0m | \u001b[0m 4.668   \u001b[0m |\n",
      "| \u001b[0m 28      \u001b[0m | \u001b[0m-0.1202  \u001b[0m | \u001b[0m 0.3235  \u001b[0m | \u001b[0m 0.09152 \u001b[0m | \u001b[0m 148.7   \u001b[0m | \u001b[0m 4.065   \u001b[0m | \u001b[0m 6.887   \u001b[0m |\n",
      "| \u001b[0m 29      \u001b[0m | \u001b[0m-0.1186  \u001b[0m | \u001b[0m 0.2866  \u001b[0m | \u001b[0m 0.08075 \u001b[0m | \u001b[0m 148.4   \u001b[0m | \u001b[0m 4.725   \u001b[0m | \u001b[0m 6.974   \u001b[0m |\n",
      "| \u001b[0m 30      \u001b[0m | \u001b[0m-0.1198  \u001b[0m | \u001b[0m 0.8102  \u001b[0m | \u001b[0m 0.04195 \u001b[0m | \u001b[0m 148.3   \u001b[0m | \u001b[0m 4.993   \u001b[0m | \u001b[0m 5.95    \u001b[0m |\n",
      "| \u001b[0m 31      \u001b[0m | \u001b[0m-0.119   \u001b[0m | \u001b[0m 0.2948  \u001b[0m | \u001b[0m 0.08162 \u001b[0m | \u001b[0m 172.7   \u001b[0m | \u001b[0m 4.72    \u001b[0m | \u001b[0m 6.222   \u001b[0m |\n",
      "| \u001b[0m 32      \u001b[0m | \u001b[0m-0.1203  \u001b[0m | \u001b[0m 0.4466  \u001b[0m | \u001b[0m 0.07168 \u001b[0m | \u001b[0m 147.9   \u001b[0m | \u001b[0m 4.17    \u001b[0m | \u001b[0m 6.531   \u001b[0m |\n",
      "| \u001b[0m 33      \u001b[0m | \u001b[0m-0.1231  \u001b[0m | \u001b[0m 0.4475  \u001b[0m | \u001b[0m 0.0892  \u001b[0m | \u001b[0m 174.9   \u001b[0m | \u001b[0m 7.496   \u001b[0m | \u001b[0m 14.82   \u001b[0m |\n",
      "| \u001b[0m 34      \u001b[0m | \u001b[0m-0.1213  \u001b[0m | \u001b[0m 0.1563  \u001b[0m | \u001b[0m 0.08802 \u001b[0m | \u001b[0m 148.2   \u001b[0m | \u001b[0m 4.781   \u001b[0m | \u001b[0m 6.91    \u001b[0m |\n",
      "| \u001b[0m 35      \u001b[0m | \u001b[0m-0.1186  \u001b[0m | \u001b[0m 0.2417  \u001b[0m | \u001b[0m 0.05013 \u001b[0m | \u001b[0m 91.39   \u001b[0m | \u001b[0m 5.228   \u001b[0m | \u001b[0m 5.256   \u001b[0m |\n",
      "| \u001b[0m 36      \u001b[0m | \u001b[0m-0.1185  \u001b[0m | \u001b[0m 0.2747  \u001b[0m | \u001b[0m 0.08604 \u001b[0m | \u001b[0m 166.8   \u001b[0m | \u001b[0m 5.66    \u001b[0m | \u001b[0m 4.26    \u001b[0m |\n",
      "| \u001b[0m 37      \u001b[0m | \u001b[0m-0.1201  \u001b[0m | \u001b[0m 0.2698  \u001b[0m | \u001b[0m 0.07564 \u001b[0m | \u001b[0m 185.3   \u001b[0m | \u001b[0m 6.159   \u001b[0m | \u001b[0m 11.15   \u001b[0m |\n",
      "| \u001b[0m 38      \u001b[0m | \u001b[0m-0.1182  \u001b[0m | \u001b[0m 0.3895  \u001b[0m | \u001b[0m 0.02202 \u001b[0m | \u001b[0m 167.0   \u001b[0m | \u001b[0m 5.546   \u001b[0m | \u001b[0m 4.154   \u001b[0m |\n",
      "| \u001b[0m 39      \u001b[0m | \u001b[0m-0.1182  \u001b[0m | \u001b[0m 0.5758  \u001b[0m | \u001b[0m 0.01678 \u001b[0m | \u001b[0m 92.55   \u001b[0m | \u001b[0m 4.357   \u001b[0m | \u001b[0m 6.424   \u001b[0m |\n",
      "| \u001b[0m 40      \u001b[0m | \u001b[0m-0.1194  \u001b[0m | \u001b[0m 0.2549  \u001b[0m | \u001b[0m 0.0813  \u001b[0m | \u001b[0m 167.1   \u001b[0m | \u001b[0m 5.379   \u001b[0m | \u001b[0m 4.011   \u001b[0m |\n",
      "=====================================================================================\n"
     ]
    }
   ],
   "source": [
    "optim = bayes_parameter_opt_lgb(train_set, target, init_round=15, opt_round=25 ,output_process=False)"
   ]
  },
  {
   "cell_type": "markdown",
   "metadata": {},
   "source": [
    "### In ra các các tham số  tối ưu"
   ]
  },
  {
   "cell_type": "code",
   "execution_count": 55,
   "metadata": {},
   "outputs": [
    {
     "name": "stdout",
     "output_type": "stream",
     "text": [
      "{'target': -0.11719952351472296, 'params': {'feature_fraction': 0.22717566691641577, 'learning_rate': 0.019933762704787465, 'max_bin': 148.44943841979102, 'max_depth': 4.552731805394455, 'num_leaves': 6.358988340160642}}\n"
     ]
    }
   ],
   "source": [
    "print(optim.max)"
   ]
  },
  {
   "cell_type": "markdown",
   "metadata": {},
   "source": [
    "## Kiểm tra lại kết quả\n",
    "\n",
    "#### Sử dụng lại Kfold và tham số của mô hình tuần 1. "
   ]
  },
  {
   "cell_type": "code",
   "execution_count": 56,
   "metadata": {},
   "outputs": [],
   "source": [
    "kf = KFold(n_splits=5, shuffle = True, random_state = 2020)\n",
    "params = {\n",
    "        \"objective\" : \"regression\",\n",
    "        \"metric\" : \"rmse\",\n",
    "        \"max_bin\" : 148,\n",
    "        \"num_leaves\" : 8,\n",
    "        \"learning_rate\" : 0.02,\n",
    "        \"bagging_fraction\" : 0.75,\n",
    "        \"bagging_freq\" : 5,\n",
    "        \"bagging_seed\" : 7,\n",
    "        \"feature_fraction\" :0.5,\n",
    "        \"feature_fraction_seed\": 7,       \n",
    "        \"verbosity\" : -1 }"
   ]
  },
  {
   "cell_type": "markdown",
   "metadata": {},
   "source": [
    "#### Update tham số cần tối ưu"
   ]
  },
  {
   "cell_type": "code",
   "execution_count": 57,
   "metadata": {},
   "outputs": [],
   "source": [
    "params['feature_fraction'] = max(min(optim.max[\"params\"][\"feature_fraction\"], 1), 0)\n",
    "params['max_depth'] = int(round(optim.max[\"params\"][\"max_depth\"]))\n",
    "params['num_leaves'] = int(round(optim.max[\"params\"][\"num_leaves\"]))\n",
    "params['max_bin'] = int(round(optim.max[\"params\"][\"max_bin\"]))\n",
    "params['learning_rate'] = optim.max[\"params\"][\"learning_rate\"]"
   ]
  },
  {
   "cell_type": "markdown",
   "metadata": {},
   "source": [
    "#### Chạy lại mô hình dựa trên Kfold và tham số ở trên "
   ]
  },
  {
   "cell_type": "code",
   "execution_count": 58,
   "metadata": {},
   "outputs": [
    {
     "name": "stdout",
     "output_type": "stream",
     "text": [
      "Training until validation scores don't improve for 100 rounds\n",
      "[200]\tvalid_0's rmse: 0.12988\n",
      "[400]\tvalid_0's rmse: 0.11911\n",
      "[600]\tvalid_0's rmse: 0.117124\n",
      "[800]\tvalid_0's rmse: 0.116261\n",
      "[1000]\tvalid_0's rmse: 0.115754\n",
      "Early stopping, best iteration is:\n",
      "[952]\tvalid_0's rmse: 0.115673\n",
      "Training until validation scores don't improve for 100 rounds\n",
      "[200]\tvalid_0's rmse: 0.140574\n",
      "[400]\tvalid_0's rmse: 0.122653\n",
      "[600]\tvalid_0's rmse: 0.119384\n",
      "[800]\tvalid_0's rmse: 0.117754\n",
      "[1000]\tvalid_0's rmse: 0.117179\n",
      "[1200]\tvalid_0's rmse: 0.116663\n",
      "[1400]\tvalid_0's rmse: 0.116203\n",
      "Early stopping, best iteration is:\n",
      "[1489]\tvalid_0's rmse: 0.116041\n",
      "Training until validation scores don't improve for 100 rounds\n",
      "[200]\tvalid_0's rmse: 0.134852\n",
      "[400]\tvalid_0's rmse: 0.120704\n",
      "[600]\tvalid_0's rmse: 0.117466\n",
      "[800]\tvalid_0's rmse: 0.115958\n",
      "[1000]\tvalid_0's rmse: 0.115579\n",
      "Early stopping, best iteration is:\n",
      "[1045]\tvalid_0's rmse: 0.115488\n",
      "Training until validation scores don't improve for 100 rounds\n",
      "[200]\tvalid_0's rmse: 0.135146\n",
      "[400]\tvalid_0's rmse: 0.121824\n",
      "[600]\tvalid_0's rmse: 0.120142\n",
      "[800]\tvalid_0's rmse: 0.120019\n",
      "Early stopping, best iteration is:\n",
      "[715]\tvalid_0's rmse: 0.119922\n",
      "Training until validation scores don't improve for 100 rounds\n",
      "[200]\tvalid_0's rmse: 0.144218\n",
      "[400]\tvalid_0's rmse: 0.125357\n",
      "[600]\tvalid_0's rmse: 0.121578\n",
      "[800]\tvalid_0's rmse: 0.120446\n",
      "[1000]\tvalid_0's rmse: 0.119598\n",
      "[1200]\tvalid_0's rmse: 0.119024\n",
      "Early stopping, best iteration is:\n",
      "[1110]\tvalid_0's rmse: 0.118819\n",
      "Full Out-Of-Fold score :  0.117200\n"
     ]
    }
   ],
   "source": [
    "oof_preds = kfold_model_lgb(params)"
   ]
  },
  {
   "cell_type": "markdown",
   "metadata": {},
   "source": [
    "### Sau khi finetune parameter, kết quả trên tập validation đã có những cải thiện đáng kể"
   ]
  },
  {
   "cell_type": "markdown",
   "metadata": {},
   "source": [
    "# QA"
   ]
  },
  {
   "cell_type": "code",
   "execution_count": null,
   "metadata": {},
   "outputs": [],
   "source": []
  }
 ],
 "metadata": {
  "kernelspec": {
   "display_name": "Python 3",
   "language": "python",
   "name": "python3"
  },
  "language_info": {
   "codemirror_mode": {
    "name": "ipython",
    "version": 3
   },
   "file_extension": ".py",
   "mimetype": "text/x-python",
   "name": "python",
   "nbconvert_exporter": "python",
   "pygments_lexer": "ipython3",
   "version": "3.7.9"
  }
 },
 "nbformat": 4,
 "nbformat_minor": 4
}
